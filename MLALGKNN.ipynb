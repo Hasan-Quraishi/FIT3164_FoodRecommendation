{
 "cells": [
  {
   "cell_type": "code",
   "execution_count": 216,
   "metadata": {},
   "outputs": [],
   "source": [
    "import numpy as np\n",
    "import pandas as pd\n",
    "import random\n",
    "import math"
   ]
  },
  {
   "cell_type": "code",
   "execution_count": 217,
   "metadata": {},
   "outputs": [],
   "source": [
    "ingredient=pd.read_csv(\"new_ingredient.csv\")"
   ]
  },
  {
   "cell_type": "code",
   "execution_count": 218,
   "metadata": {},
   "outputs": [
    {
     "data": {
      "text/html": [
       "<div>\n",
       "<style scoped>\n",
       "    .dataframe tbody tr th:only-of-type {\n",
       "        vertical-align: middle;\n",
       "    }\n",
       "\n",
       "    .dataframe tbody tr th {\n",
       "        vertical-align: top;\n",
       "    }\n",
       "\n",
       "    .dataframe thead th {\n",
       "        text-align: right;\n",
       "    }\n",
       "</style>\n",
       "<table border=\"1\" class=\"dataframe\">\n",
       "  <thead>\n",
       "    <tr style=\"text-align: right;\">\n",
       "      <th></th>\n",
       "      <th>Unnamed: 0</th>\n",
       "      <th>ingredient</th>\n",
       "    </tr>\n",
       "  </thead>\n",
       "  <tbody>\n",
       "    <tr>\n",
       "      <th>0</th>\n",
       "      <td>0</td>\n",
       "      <td>blueberries</td>\n",
       "    </tr>\n",
       "    <tr>\n",
       "      <th>1</th>\n",
       "      <td>1</td>\n",
       "      <td>granulated sugar</td>\n",
       "    </tr>\n",
       "    <tr>\n",
       "      <th>2</th>\n",
       "      <td>2</td>\n",
       "      <td>vanilla yogurt</td>\n",
       "    </tr>\n",
       "    <tr>\n",
       "      <th>3</th>\n",
       "      <td>3</td>\n",
       "      <td>lemon juice</td>\n",
       "    </tr>\n",
       "    <tr>\n",
       "      <th>4</th>\n",
       "      <td>4</td>\n",
       "      <td>saffron</td>\n",
       "    </tr>\n",
       "    <tr>\n",
       "      <th>...</th>\n",
       "      <td>...</td>\n",
       "      <td>...</td>\n",
       "    </tr>\n",
       "    <tr>\n",
       "      <th>2376</th>\n",
       "      <td>2376</td>\n",
       "      <td>dried ground cayenne</td>\n",
       "    </tr>\n",
       "    <tr>\n",
       "      <th>2377</th>\n",
       "      <td>2377</td>\n",
       "      <td>glutinous rice</td>\n",
       "    </tr>\n",
       "    <tr>\n",
       "      <th>2378</th>\n",
       "      <td>2378</td>\n",
       "      <td>chicken curry powder</td>\n",
       "    </tr>\n",
       "    <tr>\n",
       "      <th>2379</th>\n",
       "      <td>2379</td>\n",
       "      <td>boneless pork butt shank steaks</td>\n",
       "    </tr>\n",
       "    <tr>\n",
       "      <th>2380</th>\n",
       "      <td>2380</td>\n",
       "      <td>grape leaves</td>\n",
       "    </tr>\n",
       "  </tbody>\n",
       "</table>\n",
       "<p>2381 rows × 2 columns</p>\n",
       "</div>"
      ],
      "text/plain": [
       "      Unnamed: 0                       ingredient\n",
       "0              0                      blueberries\n",
       "1              1                 granulated sugar\n",
       "2              2                   vanilla yogurt\n",
       "3              3                      lemon juice\n",
       "4              4                          saffron\n",
       "...          ...                              ...\n",
       "2376        2376             dried ground cayenne\n",
       "2377        2377                   glutinous rice\n",
       "2378        2378             chicken curry powder\n",
       "2379        2379  boneless pork butt shank steaks\n",
       "2380        2380                     grape leaves\n",
       "\n",
       "[2381 rows x 2 columns]"
      ]
     },
     "execution_count": 218,
     "metadata": {},
     "output_type": "execute_result"
    }
   ],
   "source": [
    "ingredient"
   ]
  },
  {
   "cell_type": "code",
   "execution_count": 219,
   "metadata": {},
   "outputs": [],
   "source": [
    "userselect=\"blueberries\",\"granulated sugar\",\"vanilla yogurt\",\"lemon juice\",\"saffron\""
   ]
  },
  {
   "cell_type": "code",
   "execution_count": 220,
   "metadata": {},
   "outputs": [
    {
     "data": {
      "text/plain": [
       "('blueberries', 'granulated sugar', 'vanilla yogurt', 'lemon juice', 'saffron')"
      ]
     },
     "execution_count": 220,
     "metadata": {},
     "output_type": "execute_result"
    }
   ],
   "source": [
    "userselect"
   ]
  },
  {
   "cell_type": "code",
   "execution_count": 221,
   "metadata": {},
   "outputs": [],
   "source": [
    "closest=[0 for i in range(len(dataset2))]"
   ]
  },
  {
   "cell_type": "code",
   "execution_count": 222,
   "metadata": {},
   "outputs": [
    {
     "data": {
      "text/plain": [
       "'blueberries, granulated sugar, vanilla yogurt, lemon juice'"
      ]
     },
     "execution_count": 222,
     "metadata": {},
     "output_type": "execute_result"
    }
   ],
   "source": [
    "dataset2.RecipeIngredientParts[0]"
   ]
  },
  {
   "cell_type": "code",
   "execution_count": 223,
   "metadata": {},
   "outputs": [],
   "source": [
    "closestindex=[]\n",
    "for i in range(len(dataset2)):\n",
    "    for k in range(len(userselect)):\n",
    "        if userselect[k] in dataset2.RecipeIngredientParts[i]:\n",
    "            closest[i]+=1\n",
    "for i in range(10):\n",
    "    closestindex.append(closest.index(max(closest)))\n",
    "    closest[closest.index(max(closest))]=0"
   ]
  },
  {
   "cell_type": "code",
   "execution_count": 224,
   "metadata": {},
   "outputs": [
    {
     "data": {
      "text/plain": [
       "4080"
      ]
     },
     "execution_count": 224,
     "metadata": {},
     "output_type": "execute_result"
    }
   ],
   "source": [
    "len(closest)"
   ]
  },
  {
   "cell_type": "code",
   "execution_count": 240,
   "metadata": {},
   "outputs": [],
   "source": [
    "def findbyingredient(userselect,dataset2):\n",
    "    closest=[0 for i in range(len(dataset2))]\n",
    "    closestindex=[]\n",
    "    for i in range(len(dataset2)):\n",
    "        for k in range(len(userselect)):\n",
    "            if userselect[k] in dataset2.RecipeIngredientParts[i]:\n",
    "                closest[i]+=1\n",
    "    for i in range(10):\n",
    "        closestindex.append(dataset2.RecipeId[closest.index(max(closest))])\n",
    "        closest[closest.index(max(closest))]=0\n",
    "    if len(closestindex)>20:\n",
    "        return closestindex[0:20]\n",
    "    else:\n",
    "        return closestindex"
   ]
  },
  {
   "cell_type": "code",
   "execution_count": 241,
   "metadata": {},
   "outputs": [
    {
     "name": "stdout",
     "output_type": "stream",
     "text": [
      "[39, 41, 91, 109, 264, 360, 471, 503, 534, 544]\n"
     ]
    }
   ],
   "source": [
    "userselect='lamb, parsley, fresh thyme, lemon, rind of, garlic, lemon juice, small potato, shallots, olive oil'\n",
    "print(findbyingredient(userselect,dataset2))"
   ]
  },
  {
   "cell_type": "code",
   "execution_count": 239,
   "metadata": {},
   "outputs": [
    {
     "ename": "SyntaxError",
     "evalue": "unexpected EOF while parsing (<ipython-input-239-1cb2d019587c>, line 1)",
     "output_type": "error",
     "traceback": [
      "\u001b[1;36m  File \u001b[1;32m\"<ipython-input-239-1cb2d019587c>\"\u001b[1;36m, line \u001b[1;32m1\u001b[0m\n\u001b[1;33m    dataset2.RecipeId[closest.index(max(closest))\u001b[0m\n\u001b[1;37m                                                 ^\u001b[0m\n\u001b[1;31mSyntaxError\u001b[0m\u001b[1;31m:\u001b[0m unexpected EOF while parsing\n"
     ]
    }
   ],
   "source": []
  },
  {
   "cell_type": "code",
   "execution_count": 248,
   "metadata": {},
   "outputs": [
    {
     "data": {
      "text/plain": [
       "['3', '5', ',', '2', ',', '3']"
      ]
     },
     "execution_count": 248,
     "metadata": {},
     "output_type": "execute_result"
    }
   ],
   "source": [
    "c='35,2,3'\n",
    "list(c)"
   ]
  },
  {
   "cell_type": "code",
   "execution_count": 244,
   "metadata": {},
   "outputs": [
    {
     "name": "stdout",
     "output_type": "stream",
     "text": [
      "1\n",
      ",\n",
      "2\n",
      ",\n",
      "3\n"
     ]
    }
   ],
   "source": [
    "for i in range(len(c)):\n",
    "    print(c[i])"
   ]
  },
  {
   "cell_type": "code",
   "execution_count": null,
   "metadata": {},
   "outputs": [],
   "source": []
  },
  {
   "cell_type": "code",
   "execution_count": null,
   "metadata": {},
   "outputs": [],
   "source": []
  },
  {
   "cell_type": "code",
   "execution_count": null,
   "metadata": {},
   "outputs": [],
   "source": []
  },
  {
   "cell_type": "code",
   "execution_count": 287,
   "metadata": {},
   "outputs": [],
   "source": [
    "dataset2=pd.read_csv(\"dataset2.csv\")"
   ]
  },
  {
   "cell_type": "code",
   "execution_count": 288,
   "metadata": {},
   "outputs": [
    {
     "data": {
      "text/plain": [
       "'saffron, milk, hot green chili peppers, onions, garlic, clove, peppercorns, cardamom seed, cumin seed, poppy seed, mace, cilantro, mint leaf, fresh lemon juice, plain yogurt, boneless chicken, salt, ghee, onion, tomatoes, basmati rice, long-grain rice, raisins, cashews, eggs'"
      ]
     },
     "execution_count": 288,
     "metadata": {},
     "output_type": "execute_result"
    }
   ],
   "source": [
    "dataset2.RecipeIngredientParts[1]"
   ]
  },
  {
   "cell_type": "code",
   "execution_count": 289,
   "metadata": {},
   "outputs": [
    {
     "data": {
      "text/plain": [
       "'lamb, parsley, fresh thyme, lemon, rind of, garlic, cracked black pepper, butter, lemon juice, small potato, shallots, olive oil'"
      ]
     },
     "execution_count": 289,
     "metadata": {},
     "output_type": "execute_result"
    }
   ],
   "source": [
    "dataset2.RecipeIngredientParts[42]"
   ]
  },
  {
   "cell_type": "code",
   "execution_count": null,
   "metadata": {},
   "outputs": [],
   "source": []
  },
  {
   "cell_type": "code",
   "execution_count": 290,
   "metadata": {},
   "outputs": [],
   "source": [
    "data=pd.read_csv(\"new_output.csv\")\n"
   ]
  },
  {
   "cell_type": "code",
   "execution_count": 291,
   "metadata": {
    "scrolled": false
   },
   "outputs": [
    {
     "data": {
      "text/html": [
       "<div>\n",
       "<style scoped>\n",
       "    .dataframe tbody tr th:only-of-type {\n",
       "        vertical-align: middle;\n",
       "    }\n",
       "\n",
       "    .dataframe tbody tr th {\n",
       "        vertical-align: top;\n",
       "    }\n",
       "\n",
       "    .dataframe thead th {\n",
       "        text-align: right;\n",
       "    }\n",
       "</style>\n",
       "<table border=\"1\" class=\"dataframe\">\n",
       "  <thead>\n",
       "    <tr style=\"text-align: right;\">\n",
       "      <th></th>\n",
       "      <th>MyUnknownColumn</th>\n",
       "      <th>RecipeId</th>\n",
       "      <th>Name</th>\n",
       "      <th>TotalTime</th>\n",
       "      <th>Description</th>\n",
       "      <th>Images</th>\n",
       "      <th>RecipeCategory</th>\n",
       "      <th>Keywords</th>\n",
       "      <th>RecipeIngredientQuantities</th>\n",
       "      <th>RecipeIngredientParts</th>\n",
       "      <th>...</th>\n",
       "      <th>SaturatedFatContent</th>\n",
       "      <th>CholesterolContent</th>\n",
       "      <th>SodiumContent</th>\n",
       "      <th>CarbohydrateContent</th>\n",
       "      <th>FiberContent</th>\n",
       "      <th>SugarContent</th>\n",
       "      <th>ProteinContent</th>\n",
       "      <th>RecipeServings</th>\n",
       "      <th>RecipeYield</th>\n",
       "      <th>RecipeInstructions</th>\n",
       "    </tr>\n",
       "  </thead>\n",
       "  <tbody>\n",
       "    <tr>\n",
       "      <th>0</th>\n",
       "      <td>0</td>\n",
       "      <td>38</td>\n",
       "      <td>Low-Fat Berry Blue Frozen Dessert</td>\n",
       "      <td>PT24H45M</td>\n",
       "      <td>Make and share this Low-Fat Berry Blue Frozen ...</td>\n",
       "      <td>https://img.sndimg.com/food/image/upload/w_555...</td>\n",
       "      <td>Frozen Desserts</td>\n",
       "      <td>c('Dessert', 'Low Protein', 'Low Cholesterol',...</td>\n",
       "      <td>c('4', '1/4', '1', '1')</td>\n",
       "      <td>c('blueberries', 'granulated sugar', 'vanilla ...</td>\n",
       "      <td>...</td>\n",
       "      <td>1.3</td>\n",
       "      <td>8.0</td>\n",
       "      <td>29.8</td>\n",
       "      <td>37.1</td>\n",
       "      <td>3.6</td>\n",
       "      <td>30.2</td>\n",
       "      <td>3.2</td>\n",
       "      <td>4</td>\n",
       "      <td>NaN</td>\n",
       "      <td>c('Toss 2 cups berries with sugar.', 'Let stan...</td>\n",
       "    </tr>\n",
       "    <tr>\n",
       "      <th>1</th>\n",
       "      <td>1</td>\n",
       "      <td>39</td>\n",
       "      <td>Biryani</td>\n",
       "      <td>PT4H25M</td>\n",
       "      <td>Make and share this Biryani recipe from Food.com.</td>\n",
       "      <td>https://img.sndimg.com/food/image/upload/w_555...</td>\n",
       "      <td>Chicken Breast</td>\n",
       "      <td>c('Chicken Thigh &amp; Leg', 'Chicken', 'Poultry',...</td>\n",
       "      <td>c('1', '4', '2', '2', '8', '1/4', '8', '1/2', ...</td>\n",
       "      <td>c('saffron', 'milk', 'hot green chili peppers'...</td>\n",
       "      <td>...</td>\n",
       "      <td>16.6</td>\n",
       "      <td>372.8</td>\n",
       "      <td>368.4</td>\n",
       "      <td>84.4</td>\n",
       "      <td>9.0</td>\n",
       "      <td>20.4</td>\n",
       "      <td>63.4</td>\n",
       "      <td>6</td>\n",
       "      <td>NaN</td>\n",
       "      <td>c('Soak saffron in warm milk for 5 minutes and...</td>\n",
       "    </tr>\n",
       "    <tr>\n",
       "      <th>2</th>\n",
       "      <td>2</td>\n",
       "      <td>40</td>\n",
       "      <td>Best Lemonade</td>\n",
       "      <td>PT35M</td>\n",
       "      <td>This is from one of my  first Good House Keepi...</td>\n",
       "      <td>https://img.sndimg.com/food/image/upload/w_555...</td>\n",
       "      <td>Beverages</td>\n",
       "      <td>c('Low Protein', 'Low Cholesterol', 'Healthy',...</td>\n",
       "      <td>c('1 1/2', '1', NA, '1 1/2', NA, '3/4')</td>\n",
       "      <td>c('sugar', 'lemons, rind of', 'lemon, zest of'...</td>\n",
       "      <td>...</td>\n",
       "      <td>0.0</td>\n",
       "      <td>0.0</td>\n",
       "      <td>1.8</td>\n",
       "      <td>81.5</td>\n",
       "      <td>0.4</td>\n",
       "      <td>77.2</td>\n",
       "      <td>0.3</td>\n",
       "      <td>4</td>\n",
       "      <td>NaN</td>\n",
       "      <td>c('Into a 1 quart Jar with tight fitting lid, ...</td>\n",
       "    </tr>\n",
       "    <tr>\n",
       "      <th>3</th>\n",
       "      <td>3</td>\n",
       "      <td>41</td>\n",
       "      <td>Carina's Tofu-Vegetable Kebabs</td>\n",
       "      <td>PT24H20M</td>\n",
       "      <td>This dish is best prepared a day in advance to...</td>\n",
       "      <td>https://img.sndimg.com/food/image/upload/w_555...</td>\n",
       "      <td>Soy/Tofu</td>\n",
       "      <td>c('Beans', 'Vegetable', 'Low Cholesterol', 'We...</td>\n",
       "      <td>c('12', '1', '2', '1', '10', '1', '3', '2', '2...</td>\n",
       "      <td>c('extra firm tofu', 'eggplant', 'zucchini', '...</td>\n",
       "      <td>...</td>\n",
       "      <td>3.8</td>\n",
       "      <td>0.0</td>\n",
       "      <td>1558.6</td>\n",
       "      <td>64.2</td>\n",
       "      <td>17.3</td>\n",
       "      <td>32.1</td>\n",
       "      <td>29.3</td>\n",
       "      <td>2</td>\n",
       "      <td>4 kebabs</td>\n",
       "      <td>c('Drain the tofu, carefully squeezing out exc...</td>\n",
       "    </tr>\n",
       "    <tr>\n",
       "      <th>4</th>\n",
       "      <td>4</td>\n",
       "      <td>42</td>\n",
       "      <td>Cabbage Soup</td>\n",
       "      <td>PT50M</td>\n",
       "      <td>Make and share this Cabbage Soup recipe from F...</td>\n",
       "      <td>https://img.sndimg.com/food/image/upload/w_555...</td>\n",
       "      <td>Vegetable</td>\n",
       "      <td>c('Low Protein', 'Vegan', 'Low Cholesterol', '...</td>\n",
       "      <td>c('46', '4', '1', '2', '1')</td>\n",
       "      <td>c('plain tomato juice', 'cabbage', 'onion', 'c...</td>\n",
       "      <td>...</td>\n",
       "      <td>0.1</td>\n",
       "      <td>0.0</td>\n",
       "      <td>959.3</td>\n",
       "      <td>25.1</td>\n",
       "      <td>4.8</td>\n",
       "      <td>17.7</td>\n",
       "      <td>4.3</td>\n",
       "      <td>4</td>\n",
       "      <td>NaN</td>\n",
       "      <td>c('Mix everything together and bring to a boil...</td>\n",
       "    </tr>\n",
       "    <tr>\n",
       "      <th>...</th>\n",
       "      <td>...</td>\n",
       "      <td>...</td>\n",
       "      <td>...</td>\n",
       "      <td>...</td>\n",
       "      <td>...</td>\n",
       "      <td>...</td>\n",
       "      <td>...</td>\n",
       "      <td>...</td>\n",
       "      <td>...</td>\n",
       "      <td>...</td>\n",
       "      <td>...</td>\n",
       "      <td>...</td>\n",
       "      <td>...</td>\n",
       "      <td>...</td>\n",
       "      <td>...</td>\n",
       "      <td>...</td>\n",
       "      <td>...</td>\n",
       "      <td>...</td>\n",
       "      <td>...</td>\n",
       "      <td>...</td>\n",
       "      <td>...</td>\n",
       "    </tr>\n",
       "    <tr>\n",
       "      <th>4075</th>\n",
       "      <td>4075</td>\n",
       "      <td>10905</td>\n",
       "      <td>Dolmathes (Stuffed grape leaves)</td>\n",
       "      <td>PT44M</td>\n",
       "      <td>Make and share this Dolmathes (Stuffed grape l...</td>\n",
       "      <td>character(0)</td>\n",
       "      <td>One Dish Meal</td>\n",
       "      <td>c('Lunch/Snacks', 'Rice', 'Berries', 'Grapes',...</td>\n",
       "      <td>c('1/2', '1', '1', '1', '1', '1', '1')</td>\n",
       "      <td>c('grape leaves', 'onion', 'rice', 'olive oil'...</td>\n",
       "      <td>...</td>\n",
       "      <td>7.7</td>\n",
       "      <td>0.0</td>\n",
       "      <td>1624.5</td>\n",
       "      <td>57.9</td>\n",
       "      <td>2.3</td>\n",
       "      <td>5.1</td>\n",
       "      <td>6.8</td>\n",
       "      <td>4</td>\n",
       "      <td>NaN</td>\n",
       "      <td>c('Briefly dip grape leaves in boiling water t...</td>\n",
       "    </tr>\n",
       "    <tr>\n",
       "      <th>4076</th>\n",
       "      <td>4076</td>\n",
       "      <td>10906</td>\n",
       "      <td>Taramosalata (Fish Roe)</td>\n",
       "      <td>PT5M</td>\n",
       "      <td>Make and share this Taramosalata (Fish Roe) re...</td>\n",
       "      <td>character(0)</td>\n",
       "      <td>Spreads</td>\n",
       "      <td>c('Vegetable', 'Greek', 'Asian', 'European', '...</td>\n",
       "      <td>c('1/4', '2/3', '1', '1', '1 1/2')</td>\n",
       "      <td>c('olive oil', 'onion', 'lemons')</td>\n",
       "      <td>...</td>\n",
       "      <td>4.5</td>\n",
       "      <td>60.6</td>\n",
       "      <td>18.5</td>\n",
       "      <td>12.4</td>\n",
       "      <td>2.0</td>\n",
       "      <td>0.8</td>\n",
       "      <td>4.7</td>\n",
       "      <td>7</td>\n",
       "      <td>NaN</td>\n",
       "      <td>c('Mash the tarama the potatoes and the onion....</td>\n",
       "    </tr>\n",
       "    <tr>\n",
       "      <th>4077</th>\n",
       "      <td>4077</td>\n",
       "      <td>10907</td>\n",
       "      <td>Bifteki</td>\n",
       "      <td>PT16M</td>\n",
       "      <td>Make and share this Bifteki recipe from Food.com.</td>\n",
       "      <td>character(0)</td>\n",
       "      <td>Lunch/Snacks</td>\n",
       "      <td>c('Vegetable', 'Meat', 'Lebanese', 'Turkish', ...</td>\n",
       "      <td>c('2', '2', '1', '1', '1', '2', '1', NA, NA, N...</td>\n",
       "      <td>c('beef', 'pork', 'onion', 'egg', 'oregano', '...</td>\n",
       "      <td>...</td>\n",
       "      <td>38.5</td>\n",
       "      <td>155.0</td>\n",
       "      <td>81.7</td>\n",
       "      <td>6.7</td>\n",
       "      <td>0.9</td>\n",
       "      <td>1.5</td>\n",
       "      <td>12.5</td>\n",
       "      <td>7</td>\n",
       "      <td>NaN</td>\n",
       "      <td>c('Squeeze excess moisture from the bread and ...</td>\n",
       "    </tr>\n",
       "    <tr>\n",
       "      <th>4078</th>\n",
       "      <td>4078</td>\n",
       "      <td>10909</td>\n",
       "      <td>Giavourlakia Avgolemono (Lamb and Rice Meatballs)</td>\n",
       "      <td>PT37M</td>\n",
       "      <td>Make and share this Giavourlakia Avgolemono (L...</td>\n",
       "      <td>character(0)</td>\n",
       "      <td>Lunch/Snacks</td>\n",
       "      <td>c('Lamb/Sheep', 'Rice', 'Vegetable', 'Meat', '...</td>\n",
       "      <td>c('2', '1/4', '1', '3', '2', '2', '5', '1/4 - ...</td>\n",
       "      <td>c('ground lamb', 'rice', 'onion', 'parsley', '...</td>\n",
       "      <td>...</td>\n",
       "      <td>18.0</td>\n",
       "      <td>172.5</td>\n",
       "      <td>144.0</td>\n",
       "      <td>7.4</td>\n",
       "      <td>0.3</td>\n",
       "      <td>0.8</td>\n",
       "      <td>23.9</td>\n",
       "      <td>7</td>\n",
       "      <td>NaN</td>\n",
       "      <td>c('In a large bowl mix the meat, rice, onion, ...</td>\n",
       "    </tr>\n",
       "    <tr>\n",
       "      <th>4079</th>\n",
       "      <td>4079</td>\n",
       "      <td>10912</td>\n",
       "      <td>Moustalevria (Grape Wine Pudding)</td>\n",
       "      <td>PT45M</td>\n",
       "      <td>This is not my recipe - I just changed the wor...</td>\n",
       "      <td>character(0)</td>\n",
       "      <td>Dessert</td>\n",
       "      <td>c('Berries', 'Grapes', 'Fruit', 'Lebanese', 'T...</td>\n",
       "      <td>c('8', '1', '1/4', NA)</td>\n",
       "      <td>c('semolina', 'flour', 'sugar')</td>\n",
       "      <td>...</td>\n",
       "      <td>0.0</td>\n",
       "      <td>0.0</td>\n",
       "      <td>0.2</td>\n",
       "      <td>17.4</td>\n",
       "      <td>0.9</td>\n",
       "      <td>0.0</td>\n",
       "      <td>3.0</td>\n",
       "      <td>7</td>\n",
       "      <td>NaN</td>\n",
       "      <td>c('Bring the mousto to a boil.', 'Place the as...</td>\n",
       "    </tr>\n",
       "  </tbody>\n",
       "</table>\n",
       "<p>4080 rows × 24 columns</p>\n",
       "</div>"
      ],
      "text/plain": [
       "      MyUnknownColumn  RecipeId  \\\n",
       "0                   0        38   \n",
       "1                   1        39   \n",
       "2                   2        40   \n",
       "3                   3        41   \n",
       "4                   4        42   \n",
       "...               ...       ...   \n",
       "4075             4075     10905   \n",
       "4076             4076     10906   \n",
       "4077             4077     10907   \n",
       "4078             4078     10909   \n",
       "4079             4079     10912   \n",
       "\n",
       "                                                   Name TotalTime  \\\n",
       "0                     Low-Fat Berry Blue Frozen Dessert  PT24H45M   \n",
       "1                                               Biryani   PT4H25M   \n",
       "2                                         Best Lemonade     PT35M   \n",
       "3                        Carina's Tofu-Vegetable Kebabs  PT24H20M   \n",
       "4                                          Cabbage Soup     PT50M   \n",
       "...                                                 ...       ...   \n",
       "4075                   Dolmathes (Stuffed grape leaves)     PT44M   \n",
       "4076                            Taramosalata (Fish Roe)      PT5M   \n",
       "4077                                            Bifteki     PT16M   \n",
       "4078  Giavourlakia Avgolemono (Lamb and Rice Meatballs)     PT37M   \n",
       "4079                  Moustalevria (Grape Wine Pudding)     PT45M   \n",
       "\n",
       "                                            Description  \\\n",
       "0     Make and share this Low-Fat Berry Blue Frozen ...   \n",
       "1     Make and share this Biryani recipe from Food.com.   \n",
       "2     This is from one of my  first Good House Keepi...   \n",
       "3     This dish is best prepared a day in advance to...   \n",
       "4     Make and share this Cabbage Soup recipe from F...   \n",
       "...                                                 ...   \n",
       "4075  Make and share this Dolmathes (Stuffed grape l...   \n",
       "4076  Make and share this Taramosalata (Fish Roe) re...   \n",
       "4077  Make and share this Bifteki recipe from Food.com.   \n",
       "4078  Make and share this Giavourlakia Avgolemono (L...   \n",
       "4079  This is not my recipe - I just changed the wor...   \n",
       "\n",
       "                                                 Images   RecipeCategory  \\\n",
       "0     https://img.sndimg.com/food/image/upload/w_555...  Frozen Desserts   \n",
       "1     https://img.sndimg.com/food/image/upload/w_555...   Chicken Breast   \n",
       "2     https://img.sndimg.com/food/image/upload/w_555...        Beverages   \n",
       "3     https://img.sndimg.com/food/image/upload/w_555...         Soy/Tofu   \n",
       "4     https://img.sndimg.com/food/image/upload/w_555...        Vegetable   \n",
       "...                                                 ...              ...   \n",
       "4075                                       character(0)    One Dish Meal   \n",
       "4076                                       character(0)          Spreads   \n",
       "4077                                       character(0)     Lunch/Snacks   \n",
       "4078                                       character(0)     Lunch/Snacks   \n",
       "4079                                       character(0)          Dessert   \n",
       "\n",
       "                                               Keywords  \\\n",
       "0     c('Dessert', 'Low Protein', 'Low Cholesterol',...   \n",
       "1     c('Chicken Thigh & Leg', 'Chicken', 'Poultry',...   \n",
       "2     c('Low Protein', 'Low Cholesterol', 'Healthy',...   \n",
       "3     c('Beans', 'Vegetable', 'Low Cholesterol', 'We...   \n",
       "4     c('Low Protein', 'Vegan', 'Low Cholesterol', '...   \n",
       "...                                                 ...   \n",
       "4075  c('Lunch/Snacks', 'Rice', 'Berries', 'Grapes',...   \n",
       "4076  c('Vegetable', 'Greek', 'Asian', 'European', '...   \n",
       "4077  c('Vegetable', 'Meat', 'Lebanese', 'Turkish', ...   \n",
       "4078  c('Lamb/Sheep', 'Rice', 'Vegetable', 'Meat', '...   \n",
       "4079  c('Berries', 'Grapes', 'Fruit', 'Lebanese', 'T...   \n",
       "\n",
       "                             RecipeIngredientQuantities  \\\n",
       "0                               c('4', '1/4', '1', '1')   \n",
       "1     c('1', '4', '2', '2', '8', '1/4', '8', '1/2', ...   \n",
       "2               c('1 1/2', '1', NA, '1 1/2', NA, '3/4')   \n",
       "3     c('12', '1', '2', '1', '10', '1', '3', '2', '2...   \n",
       "4                           c('46', '4', '1', '2', '1')   \n",
       "...                                                 ...   \n",
       "4075             c('1/2', '1', '1', '1', '1', '1', '1')   \n",
       "4076                 c('1/4', '2/3', '1', '1', '1 1/2')   \n",
       "4077  c('2', '2', '1', '1', '1', '2', '1', NA, NA, N...   \n",
       "4078  c('2', '1/4', '1', '3', '2', '2', '5', '1/4 - ...   \n",
       "4079                             c('8', '1', '1/4', NA)   \n",
       "\n",
       "                                  RecipeIngredientParts  ...  \\\n",
       "0     c('blueberries', 'granulated sugar', 'vanilla ...  ...   \n",
       "1     c('saffron', 'milk', 'hot green chili peppers'...  ...   \n",
       "2     c('sugar', 'lemons, rind of', 'lemon, zest of'...  ...   \n",
       "3     c('extra firm tofu', 'eggplant', 'zucchini', '...  ...   \n",
       "4     c('plain tomato juice', 'cabbage', 'onion', 'c...  ...   \n",
       "...                                                 ...  ...   \n",
       "4075  c('grape leaves', 'onion', 'rice', 'olive oil'...  ...   \n",
       "4076                  c('olive oil', 'onion', 'lemons')  ...   \n",
       "4077  c('beef', 'pork', 'onion', 'egg', 'oregano', '...  ...   \n",
       "4078  c('ground lamb', 'rice', 'onion', 'parsley', '...  ...   \n",
       "4079                    c('semolina', 'flour', 'sugar')  ...   \n",
       "\n",
       "      SaturatedFatContent  CholesterolContent  SodiumContent  \\\n",
       "0                     1.3                 8.0           29.8   \n",
       "1                    16.6               372.8          368.4   \n",
       "2                     0.0                 0.0            1.8   \n",
       "3                     3.8                 0.0         1558.6   \n",
       "4                     0.1                 0.0          959.3   \n",
       "...                   ...                 ...            ...   \n",
       "4075                  7.7                 0.0         1624.5   \n",
       "4076                  4.5                60.6           18.5   \n",
       "4077                 38.5               155.0           81.7   \n",
       "4078                 18.0               172.5          144.0   \n",
       "4079                  0.0                 0.0            0.2   \n",
       "\n",
       "      CarbohydrateContent  FiberContent  SugarContent  ProteinContent  \\\n",
       "0                    37.1           3.6          30.2             3.2   \n",
       "1                    84.4           9.0          20.4            63.4   \n",
       "2                    81.5           0.4          77.2             0.3   \n",
       "3                    64.2          17.3          32.1            29.3   \n",
       "4                    25.1           4.8          17.7             4.3   \n",
       "...                   ...           ...           ...             ...   \n",
       "4075                 57.9           2.3           5.1             6.8   \n",
       "4076                 12.4           2.0           0.8             4.7   \n",
       "4077                  6.7           0.9           1.5            12.5   \n",
       "4078                  7.4           0.3           0.8            23.9   \n",
       "4079                 17.4           0.9           0.0             3.0   \n",
       "\n",
       "      RecipeServings  RecipeYield  \\\n",
       "0                  4          NaN   \n",
       "1                  6          NaN   \n",
       "2                  4          NaN   \n",
       "3                  2     4 kebabs   \n",
       "4                  4          NaN   \n",
       "...              ...          ...   \n",
       "4075               4          NaN   \n",
       "4076               7          NaN   \n",
       "4077               7          NaN   \n",
       "4078               7          NaN   \n",
       "4079               7          NaN   \n",
       "\n",
       "                                     RecipeInstructions  \n",
       "0     c('Toss 2 cups berries with sugar.', 'Let stan...  \n",
       "1     c('Soak saffron in warm milk for 5 minutes and...  \n",
       "2     c('Into a 1 quart Jar with tight fitting lid, ...  \n",
       "3     c('Drain the tofu, carefully squeezing out exc...  \n",
       "4     c('Mix everything together and bring to a boil...  \n",
       "...                                                 ...  \n",
       "4075  c('Briefly dip grape leaves in boiling water t...  \n",
       "4076  c('Mash the tarama the potatoes and the onion....  \n",
       "4077  c('Squeeze excess moisture from the bread and ...  \n",
       "4078  c('In a large bowl mix the meat, rice, onion, ...  \n",
       "4079  c('Bring the mousto to a boil.', 'Place the as...  \n",
       "\n",
       "[4080 rows x 24 columns]"
      ]
     },
     "execution_count": 291,
     "metadata": {},
     "output_type": "execute_result"
    }
   ],
   "source": [
    "data"
   ]
  },
  {
   "cell_type": "code",
   "execution_count": 292,
   "metadata": {},
   "outputs": [],
   "source": [
    "from randomuser import RandomUser"
   ]
  },
  {
   "cell_type": "code",
   "execution_count": 293,
   "metadata": {},
   "outputs": [],
   "source": [
    "user = RandomUser()"
   ]
  },
  {
   "cell_type": "code",
   "execution_count": 294,
   "metadata": {},
   "outputs": [],
   "source": [
    "user_list = RandomUser.generate_users(100, {'nat': 'ca'})"
   ]
  },
  {
   "cell_type": "code",
   "execution_count": 295,
   "metadata": {},
   "outputs": [],
   "source": [
    "id=[]\n",
    "first_name=[]\n",
    "last_name=[]\n",
    "email=[]\n",
    "password=[]\n",
    "for i in range(len(user_list)):\n",
    "    id.append(i)\n",
    "    first_name.append(user_list[i].get_first_name())\n",
    "    last_name.append(user_list[i].get_last_name())\n",
    "    email.append(user_list[i].get_email())\n",
    "    password.append(user_list[i].get_password())\n",
    "user_data= pd.DataFrame(list(zip(id, first_name,last_name,email,password)),\n",
    "               columns =['id','firstName','lastName','email','password'])"
   ]
  },
  {
   "cell_type": "code",
   "execution_count": 296,
   "metadata": {},
   "outputs": [],
   "source": [
    "ratingDb = []\n",
    "for i in range(101):\n",
    "        dishLst = np.random.choice(data[\"RecipeId\"], np.random.randint(20, 50),\n",
    "                                   replace=False)\n",
    "        for dish in dishLst:\n",
    "            ratingDb.append([i, dish, np.random.randint(1, 5)])\n",
    "ratingDb = pd.DataFrame(ratingDb, columns=['id', \"dish_id\", 'rating'])\n"
   ]
  },
  {
   "cell_type": "code",
   "execution_count": 297,
   "metadata": {},
   "outputs": [
    {
     "data": {
      "text/html": [
       "<div>\n",
       "<style scoped>\n",
       "    .dataframe tbody tr th:only-of-type {\n",
       "        vertical-align: middle;\n",
       "    }\n",
       "\n",
       "    .dataframe tbody tr th {\n",
       "        vertical-align: top;\n",
       "    }\n",
       "\n",
       "    .dataframe thead th {\n",
       "        text-align: right;\n",
       "    }\n",
       "</style>\n",
       "<table border=\"1\" class=\"dataframe\">\n",
       "  <thead>\n",
       "    <tr style=\"text-align: right;\">\n",
       "      <th></th>\n",
       "      <th>id</th>\n",
       "      <th>dish_id</th>\n",
       "      <th>rating</th>\n",
       "    </tr>\n",
       "  </thead>\n",
       "  <tbody>\n",
       "    <tr>\n",
       "      <th>0</th>\n",
       "      <td>0</td>\n",
       "      <td>2823</td>\n",
       "      <td>4</td>\n",
       "    </tr>\n",
       "    <tr>\n",
       "      <th>1</th>\n",
       "      <td>0</td>\n",
       "      <td>1947</td>\n",
       "      <td>4</td>\n",
       "    </tr>\n",
       "    <tr>\n",
       "      <th>2</th>\n",
       "      <td>0</td>\n",
       "      <td>5006</td>\n",
       "      <td>2</td>\n",
       "    </tr>\n",
       "    <tr>\n",
       "      <th>3</th>\n",
       "      <td>0</td>\n",
       "      <td>3602</td>\n",
       "      <td>1</td>\n",
       "    </tr>\n",
       "    <tr>\n",
       "      <th>4</th>\n",
       "      <td>0</td>\n",
       "      <td>2541</td>\n",
       "      <td>2</td>\n",
       "    </tr>\n",
       "    <tr>\n",
       "      <th>...</th>\n",
       "      <td>...</td>\n",
       "      <td>...</td>\n",
       "      <td>...</td>\n",
       "    </tr>\n",
       "    <tr>\n",
       "      <th>3579</th>\n",
       "      <td>100</td>\n",
       "      <td>10286</td>\n",
       "      <td>1</td>\n",
       "    </tr>\n",
       "    <tr>\n",
       "      <th>3580</th>\n",
       "      <td>100</td>\n",
       "      <td>8691</td>\n",
       "      <td>1</td>\n",
       "    </tr>\n",
       "    <tr>\n",
       "      <th>3581</th>\n",
       "      <td>100</td>\n",
       "      <td>8162</td>\n",
       "      <td>4</td>\n",
       "    </tr>\n",
       "    <tr>\n",
       "      <th>3582</th>\n",
       "      <td>100</td>\n",
       "      <td>778</td>\n",
       "      <td>3</td>\n",
       "    </tr>\n",
       "    <tr>\n",
       "      <th>3583</th>\n",
       "      <td>100</td>\n",
       "      <td>4269</td>\n",
       "      <td>3</td>\n",
       "    </tr>\n",
       "  </tbody>\n",
       "</table>\n",
       "<p>3584 rows × 3 columns</p>\n",
       "</div>"
      ],
      "text/plain": [
       "       id  dish_id  rating\n",
       "0       0     2823       4\n",
       "1       0     1947       4\n",
       "2       0     5006       2\n",
       "3       0     3602       1\n",
       "4       0     2541       2\n",
       "...   ...      ...     ...\n",
       "3579  100    10286       1\n",
       "3580  100     8691       1\n",
       "3581  100     8162       4\n",
       "3582  100      778       3\n",
       "3583  100     4269       3\n",
       "\n",
       "[3584 rows x 3 columns]"
      ]
     },
     "execution_count": 297,
     "metadata": {},
     "output_type": "execute_result"
    }
   ],
   "source": [
    "ratingDb"
   ]
  },
  {
   "cell_type": "code",
   "execution_count": 298,
   "metadata": {},
   "outputs": [],
   "source": [
    "ratingDb = []\n",
    "for i in range(101):\n",
    "        dishLst = np.random.choice(data[\"RecipeId\"], np.random.randint(20, 50),\n",
    "                                   replace=False)\n",
    "        for dish in dishLst:\n",
    "            ratingDb.append([i, dish, np.random.randint(1, 5)])\n",
    "ratingDb = pd.DataFrame(ratingDb, columns=['id', \"dish_id\", 'rating'])"
   ]
  },
  {
   "cell_type": "code",
   "execution_count": 299,
   "metadata": {},
   "outputs": [
    {
     "data": {
      "text/html": [
       "<div>\n",
       "<style scoped>\n",
       "    .dataframe tbody tr th:only-of-type {\n",
       "        vertical-align: middle;\n",
       "    }\n",
       "\n",
       "    .dataframe tbody tr th {\n",
       "        vertical-align: top;\n",
       "    }\n",
       "\n",
       "    .dataframe thead th {\n",
       "        text-align: right;\n",
       "    }\n",
       "</style>\n",
       "<table border=\"1\" class=\"dataframe\">\n",
       "  <thead>\n",
       "    <tr style=\"text-align: right;\">\n",
       "      <th></th>\n",
       "      <th>id</th>\n",
       "      <th>dish_id</th>\n",
       "      <th>rating</th>\n",
       "    </tr>\n",
       "  </thead>\n",
       "  <tbody>\n",
       "    <tr>\n",
       "      <th>0</th>\n",
       "      <td>0</td>\n",
       "      <td>2551</td>\n",
       "      <td>1</td>\n",
       "    </tr>\n",
       "    <tr>\n",
       "      <th>1</th>\n",
       "      <td>0</td>\n",
       "      <td>10016</td>\n",
       "      <td>2</td>\n",
       "    </tr>\n",
       "    <tr>\n",
       "      <th>2</th>\n",
       "      <td>0</td>\n",
       "      <td>3796</td>\n",
       "      <td>2</td>\n",
       "    </tr>\n",
       "    <tr>\n",
       "      <th>3</th>\n",
       "      <td>0</td>\n",
       "      <td>6666</td>\n",
       "      <td>4</td>\n",
       "    </tr>\n",
       "    <tr>\n",
       "      <th>4</th>\n",
       "      <td>0</td>\n",
       "      <td>10770</td>\n",
       "      <td>2</td>\n",
       "    </tr>\n",
       "    <tr>\n",
       "      <th>...</th>\n",
       "      <td>...</td>\n",
       "      <td>...</td>\n",
       "      <td>...</td>\n",
       "    </tr>\n",
       "    <tr>\n",
       "      <th>3423</th>\n",
       "      <td>100</td>\n",
       "      <td>5102</td>\n",
       "      <td>4</td>\n",
       "    </tr>\n",
       "    <tr>\n",
       "      <th>3424</th>\n",
       "      <td>100</td>\n",
       "      <td>8573</td>\n",
       "      <td>4</td>\n",
       "    </tr>\n",
       "    <tr>\n",
       "      <th>3425</th>\n",
       "      <td>100</td>\n",
       "      <td>8716</td>\n",
       "      <td>3</td>\n",
       "    </tr>\n",
       "    <tr>\n",
       "      <th>3426</th>\n",
       "      <td>100</td>\n",
       "      <td>6566</td>\n",
       "      <td>4</td>\n",
       "    </tr>\n",
       "    <tr>\n",
       "      <th>3427</th>\n",
       "      <td>3</td>\n",
       "      <td>39</td>\n",
       "      <td>3</td>\n",
       "    </tr>\n",
       "  </tbody>\n",
       "</table>\n",
       "<p>3428 rows × 3 columns</p>\n",
       "</div>"
      ],
      "text/plain": [
       "       id  dish_id  rating\n",
       "0       0     2551       1\n",
       "1       0    10016       2\n",
       "2       0     3796       2\n",
       "3       0     6666       4\n",
       "4       0    10770       2\n",
       "...   ...      ...     ...\n",
       "3423  100     5102       4\n",
       "3424  100     8573       4\n",
       "3425  100     8716       3\n",
       "3426  100     6566       4\n",
       "3427    3       39       3\n",
       "\n",
       "[3428 rows x 3 columns]"
      ]
     },
     "execution_count": 299,
     "metadata": {},
     "output_type": "execute_result"
    }
   ],
   "source": [
    "ratingDb"
   ]
  },
  {
   "cell_type": "code",
   "execution_count": null,
   "metadata": {},
   "outputs": [],
   "source": []
  },
  {
   "cell_type": "code",
   "execution_count": null,
   "metadata": {},
   "outputs": [],
   "source": []
  },
  {
   "cell_type": "code",
   "execution_count": null,
   "metadata": {},
   "outputs": [],
   "source": []
  },
  {
   "cell_type": "code",
   "execution_count": null,
   "metadata": {},
   "outputs": [],
   "source": []
  },
  {
   "cell_type": "code",
   "execution_count": null,
   "metadata": {},
   "outputs": [],
   "source": []
  },
  {
   "cell_type": "code",
   "execution_count": null,
   "metadata": {},
   "outputs": [],
   "source": []
  },
  {
   "cell_type": "code",
   "execution_count": null,
   "metadata": {},
   "outputs": [],
   "source": []
  },
  {
   "cell_type": "code",
   "execution_count": 300,
   "metadata": {},
   "outputs": [],
   "source": [
    "ratingDb.to_csv('RatingDB.csv',encoding='utf-8')"
   ]
  },
  {
   "cell_type": "code",
   "execution_count": null,
   "metadata": {},
   "outputs": [],
   "source": []
  },
  {
   "cell_type": "code",
   "execution_count": 306,
   "metadata": {},
   "outputs": [],
   "source": [
    "def recommend(ratingDb, targetUserId, numDish=20):\n",
    "    recipeLst = []\n",
    "    currentLst = list(ratingDb.dish_id[ratingDb[\"id\"] == targetUserId])\n",
    "    if len(currentLst)==0:\n",
    "        if len(recipeLst)==0:\n",
    "            for i in range(5):\n",
    "                while True:\n",
    "                    dish = np.random.choice(list(ratingDb.dish_id))\n",
    "                    if dish not in recipeLst and dish not in currentLst:\n",
    "                            recipeLst.append(dish)\n",
    "                            break\n",
    "    # Get the distance\n",
    "    userId, distanceLst = getDistance(ratingDb, targetUserId)\n",
    "    # Get the ID of the top users\n",
    "    topUserIds, smallestDistance = getTopUser(userId, distanceLst, numDish)\n",
    "    # Get the recipes ID\n",
    "    recipeLst = []\n",
    "    currentLst = list(ratingDb.dish_id[ratingDb[\"id\"] == targetUserId])\n",
    "    for i in range(len(topUserIds)):\n",
    "        while True:\n",
    "            dish = np.random.choice(list(ratingDb.dish_id[ratingDb[\"id\"] == topUserIds[i]]))\n",
    "            if dish not in currentLst:\n",
    "                recipeLst.append(dish)\n",
    "                break\n",
    "    return recipeLst"
   ]
  },
  {
   "cell_type": "code",
   "execution_count": 307,
   "metadata": {},
   "outputs": [],
   "source": [
    "def getTopUser(userId, distanceLst, numUser=20):\n",
    "    nearestUser = []\n",
    "    smallestDistance = []\n",
    "    sortedIndex = np.argsort(distanceLst)\n",
    "    i = 0\n",
    "    while i < len(distanceLst) and len(nearestUser) < numUser:\n",
    "        # Remove users that are identical\n",
    "        if distanceLst[sortedIndex[i]] > 0:\n",
    "            nearestUser.append(userId[sortedIndex[i]])\n",
    "            smallestDistance.append(distanceLst[sortedIndex[i]])\n",
    "        i += 1\n",
    "    return nearestUser, smallestDistance"
   ]
  },
  {
   "cell_type": "code",
   "execution_count": 308,
   "metadata": {},
   "outputs": [],
   "source": [
    "def getDistance(ratingDb, targetUser):\n",
    "    userId = list(np.unique(ratingDb[\"id\"]))\n",
    "    print(userId)\n",
    "    dishId = []\n",
    "    rating = []\n",
    "    distanceLst = [-1 for i in range(len(userId))]\n",
    "    for i in range(len(userId) + 1):\n",
    "        dishId.append(list(ratingDb.dish_id[ratingDb[\"id\"] == i]))\n",
    "        rating.append(list(ratingDb.rating[ratingDb[\"id\"] == i]))\n",
    "    print(dishId)\n",
    "    print(rating)\n",
    "    # For each user, calculate the distance the target user\n",
    "    for i in range(len(userId)):\n",
    "        distance = 0\n",
    "        if i != userId.index(targetUser):\n",
    "            for j in range(len(dishId[userId.index(targetUser)])):\n",
    "                if dishId[userId.index(targetUser)][j] in dishId[i]:\n",
    "                    index = dishId[i].index(dishId[userId.index(targetUser)][j])\n",
    "                    distance += abs(rating[userId.index(targetUser)][j] - rating[i][index])\n",
    "            distanceLst[i] = distance\n",
    "    return userId, distanceLst"
   ]
  },
  {
   "cell_type": "code",
   "execution_count": 309,
   "metadata": {},
   "outputs": [],
   "source": [
    "ratingdatabase=pd.read_csv(\"checkrate.csv\")"
   ]
  },
  {
   "cell_type": "code",
   "execution_count": 310,
   "metadata": {},
   "outputs": [
    {
     "name": "stdout",
     "output_type": "stream",
     "text": [
      "[0, 1, 2, 3, 4, 5, 6, 7, 8, 9, 10, 11, 12, 13, 14, 15, 16, 17, 18, 19, 20, 21, 22, 23, 24, 25, 26, 27, 28, 29, 30, 31, 32, 33, 34, 35, 36, 37, 38, 39, 40, 41, 42, 43, 44, 45, 46, 47, 48, 49, 50, 51, 52, 53, 54, 55, 56, 57, 58, 59, 60, 61, 62, 63, 64, 65, 66, 67, 68, 69, 70, 71, 72, 73, 74, 75, 76, 77, 78, 79, 80, 81, 82, 83, 84, 85, 86, 87, 88, 89, 90, 91, 92, 93, 94, 95, 96, 97, 98, 99, 100]\n",
      "[[2551, 10016, 3796, 6666, 10770, 680, 93, 3102, 10526, 8771, 10513, 8224, 43, 5349, 5161, 6527, 8745, 8668, 6970, 8495, 7071, 9996, 6901, 7058, 6629, 5329, 3555, 3294, 10169, 7028, 8161, 4849, 7855, 180, 1750, 7915, 626], [10818, 4277, 10756, 6869, 7215, 6679, 8940, 3506, 7323, 7211, 4835, 7305, 8472, 4711, 3119, 6941, 3921, 7768, 10683, 3306, 2679, 2889, 7932, 9547], [8038, 5121, 10145, 754, 8394, 10660, 8969, 5245, 8591, 9684, 4826, 3130, 10287, 8350, 9440, 8221, 8963, 2960, 2691, 674, 1150, 897, 4665, 3143, 2743, 5440, 6759, 6650, 8637, 4368, 226, 8690], [10877, 9252, 7526, 2541, 7797, 10186, 3372, 10304, 6490, 6521, 4882, 2527, 3978, 7082, 5275, 4272, 8660, 8863, 2931, 10683, 7998, 3296, 8672, 7181, 6444, 3707, 4035, 4485, 2752, 10824, 9423, 3873, 2826, 5094, 2915, 10599, 10427, 8038, 7751, 5483, 10020, 5221, 3187, 9399, 10789, 8987, 8099, 39], [368, 5148, 5373, 7532, 1841, 8525, 6428, 7274, 10046, 300, 8998, 5161, 10831, 9694, 8471, 9849, 302, 3369, 8627, 5028], [8994, 7701, 4675, 2601, 8035, 8620, 8863, 7195, 1684, 9275, 8073, 6928, 10206, 6964, 5465, 8409, 7028, 7174, 10445, 9063, 10876, 4536, 9716, 10287, 10672, 575, 4717, 10745, 9273, 4068, 10570, 10763], [4947, 10770, 5304, 10836, 10778, 7427, 6599, 9970, 1148, 7497, 9837, 8771, 5032, 2935, 7496, 3540, 8741, 4803, 9771, 9872, 4826, 2118, 3285, 3122, 5480, 9471, 7024, 4656], [3871, 127, 272, 7184, 10048, 4826, 8718, 4682, 7185, 7137, 3017, 8821, 10295, 10763, 4768, 5346, 9920, 8661, 8949, 2734, 2998, 719, 2845, 1005, 362, 3286, 3267, 4241, 7216, 10205, 8628, 5288, 6524, 3557, 108, 3497, 3216, 3656, 8771, 7983, 5187, 10493, 10458, 5315, 10116, 4718, 3584, 9025], [9205, 5346, 7894, 9083, 58, 156, 2768, 2919, 4369, 4736, 5190, 5096, 6571, 8472, 7688, 4973, 1149, 5476, 7907, 4505, 5265, 10512, 10367, 4239, 10257, 9762, 8692, 4139, 480, 4777, 6611, 4306, 10070, 2697, 7437, 3101, 2574], [168, 272, 10317, 9861, 4355, 7708, 8298, 2740, 7359, 7734, 1578, 409, 7234, 10048, 8177, 2570, 8500, 8809, 6967, 6865, 3657, 2717, 6742, 3817, 4323, 1522, 8255, 6574, 8002, 9010, 9332, 5025, 7142, 3441, 147, 4829, 10684, 3930, 5252, 8354, 8816, 7746, 2830, 1760], [1236, 753, 10432, 294, 3051, 6764, 4263, 2697, 3566, 10020, 8527, 8709, 4398, 6571, 10748, 3941, 3671, 3508, 9452, 9394, 9205, 4671, 7781, 9779, 8718, 3739, 7061, 4235, 1275, 3748, 3099, 7996, 4428, 10162, 2959, 5386, 6463, 3610, 10741, 3135, 4323, 7013, 8412, 1437], [4844, 5334, 4550, 9544, 7627, 1423, 3295, 3162, 1249, 992, 339, 4267, 4312, 3506, 2759, 7695, 377, 6773, 8327, 6582, 10433, 6840, 7674, 8981, 6724, 9110, 9085, 6923, 6842, 970, 3578, 6447, 8867], [9416, 8073, 5106, 7609, 87, 9911, 6722, 8222, 801, 8668, 8430, 2631, 1275, 8240, 661, 8906, 4373, 2495, 2668, 8749, 9196, 9060, 507], [9474, 8578, 9100, 1437, 8213, 1259, 9754, 9056, 8516, 10861, 6751, 2686, 9405, 9252, 780, 7595, 7118, 6924, 10413, 3061, 1633, 8116, 8927, 10552, 8279, 3977], [1797, 8998, 4854, 751, 4464, 8525, 4667, 71, 9996, 7247, 5197, 3010, 10411, 4880, 7475, 5474, 10091, 778, 6627, 5406, 3534, 10422, 8445, 8049, 9063, 8133, 4918, 4164, 8651, 1117, 8754, 2916, 3122, 7589, 7226, 5437, 5338, 1293, 9225, 3858, 2325, 9545, 10130, 4944, 8306], [3400, 4917, 5096, 10284, 3413, 3534, 2541, 6700, 7178, 3028, 7182, 3033, 6916, 10659, 59, 8915, 10382, 611, 7695, 8290, 4206, 8088, 314, 4894, 3548, 507, 156, 7974, 3328, 352, 115, 8800, 8035, 42, 5344, 3229, 649, 4710, 7159, 6893, 7109], [3376, 4934, 8233, 2778, 8298, 7030, 8709, 6949, 6702, 8837, 4717, 7001, 4120, 5400, 9148, 4077, 10566, 206, 8811, 2877, 7360, 4407, 9960, 3349, 7975, 8151, 1048, 2555, 5319, 7645, 4505, 3351, 8575, 1100, 7629, 3122, 7279, 9054, 4352, 9271, 5326, 9913, 9224, 3292, 8563], [3426, 2137, 9503, 7910, 4717, 5288, 10446, 8425, 4433, 7275, 10789, 659, 8407, 10074, 4417, 4906, 3838, 10342, 572, 10559, 7025, 3358, 7251, 1533, 2325, 4337, 5326, 9193], [4571, 9750, 9389, 9435, 1275, 5213, 3695, 3871, 4981, 8566, 1587, 2111, 10364, 1141, 9831, 596, 84, 3858, 4408, 4915, 7279, 10849, 1878, 4788, 6540, 519], [5028, 6972, 8770, 7061, 3099, 9218, 10912, 240, 502, 3054, 7102, 10659, 9779, 1633, 4801, 9523, 3091, 3963, 4089, 9739, 9694, 3069, 7570, 8173, 1629, 8239, 10861, 6428, 8339, 9261, 4861, 6890, 526, 4796, 10803, 8984, 7366, 7442, 8066, 3130, 481, 8594], [2112, 4565, 9234, 6689, 7168, 1566, 6657, 8019, 1696, 10184, 8667, 670, 10548, 9191, 6954, 8430, 5107, 8132, 10353, 10374, 3401, 7087, 9222, 2835], [220, 9202, 8990, 7509, 6759, 8101, 7386, 6634, 3427, 4260, 6945, 9982, 5028, 620, 7781, 8065, 2791, 3474, 7949, 2501, 3687, 1631, 897], [564, 3555, 1387, 3619, 10843, 9413, 1699, 9000, 3840, 691, 8994, 9746, 10111, 7707, 885, 314, 6709, 8443, 117, 264, 6578, 4153, 10876, 7977, 5235, 8535, 10081, 302, 10405, 9523, 10552, 8525, 6643, 8774, 8842, 3052], [10519, 9284, 10850, 8110, 7194, 10783, 7847, 10667, 9683, 7244, 5229, 8588, 5023, 2047, 3284, 7822, 3357, 9806, 2841, 3913, 10803, 7941, 4639, 4246, 10395, 7984, 2935, 9800, 3474, 159, 2373, 4269, 3579, 952], [4445, 10092, 261, 7734, 6619, 7089, 5379, 6633, 459, 3420, 6426, 461, 4926, 3457, 7595, 4788, 8953, 8392, 8928, 7477, 5221, 3576, 7863, 9259, 3288, 4760, 4172, 7194, 8826, 9508, 8598, 7565, 6955, 2743, 9191, 2677, 9254, 9526, 6978, 8913, 302, 467, 9024, 2892, 6555, 6602, 7198, 801, 7915], [7846, 8327, 7791, 3649, 9072, 7583, 7370, 7226, 9135, 4662, 8921, 232, 2742, 7756, 8454, 1141, 3242, 6722, 9425, 7156, 7045, 504, 558, 10709, 8865, 7919, 3969, 3456, 9137, 191, 41, 4239, 534, 7492, 7440, 10798, 3497, 8393, 6885, 6515, 3369, 10641, 5476, 4973, 4035, 220, 10585], [3286, 3226, 10237, 10786, 7630, 301, 3962, 10780, 9790, 1451, 1581, 10876, 10042, 6932, 6689, 7853, 10634, 9999, 7076, 953, 3708, 8635], [4411, 10796, 4536, 4501, 7295, 591, 10745, 8402, 2080, 100, 4649, 2691, 3840, 4639, 10782, 10163, 5397, 7246, 7275, 1536, 9896, 9736, 7171, 8044, 3167, 6562, 7891, 5371, 8809, 5107], [6869, 6890, 546, 6839, 3457, 7553, 10230, 3159, 8053, 10815, 376, 2743, 9093, 10432, 3143, 2862, 3995, 7151, 9063, 9005, 6884, 38, 7662, 8279, 8172, 1842, 3451, 9509, 6998], [5311, 3817, 10303, 6567, 171, 6957, 246, 2566, 4370, 9906, 4667, 3858, 10748, 9494, 518, 7940, 10420, 378, 4104, 3008, 9050, 6721, 9100, 9445], [3623, 10306, 10310, 9537, 8926, 10787, 4506, 8380, 422, 48, 3286, 539, 2267, 1168, 10246, 10327, 8807, 8866, 962, 4986, 753, 7641, 6998, 3158, 3137], [8757, 7184, 8053, 9834, 177, 5199, 491, 1947, 7568, 7248, 768, 9552, 9512, 3557, 6738, 1320, 456, 8380, 7621, 9249, 8195, 3344, 7503, 10514, 5428, 8924, 9021, 1149], [10531, 6874, 6444, 10233, 10755, 10548, 8968, 7714, 8456, 8022, 4658, 6565, 2775, 9765, 6770, 9193, 3838, 8795, 115, 4523, 7993, 8990, 5023, 8816, 5101, 5028, 110, 876], [6737, 6830, 3419, 1443, 10626, 8613, 2811, 116, 471, 10513, 7563, 6426, 680, 7015, 8959, 7661, 1581, 7792, 4088, 2597, 4341, 2885, 8935, 6995, 5084, 6871, 10246, 9345, 6854, 5206, 9246, 8269, 7206, 5440, 8488, 8706, 5478, 4617, 4129, 9243, 3830, 8764, 4573, 8690, 9875, 4986, 8963], [7348, 2032, 4639, 10355, 9723, 4261, 9545, 670, 2791, 8040, 3496, 7751, 5136, 4380, 10672, 1069, 4951, 8015, 1627, 9543, 4052, 10197, 8911, 8699, 577, 2697, 2527, 180, 4675, 7778, 8959, 136, 3036, 2780, 5414], [7251, 7817, 8927, 8077, 4949, 8117, 413, 648, 8249, 164, 2579, 1542, 9328, 191, 7495, 7248, 1401, 8335, 3873, 2897, 7563, 3294, 4246, 3487, 9494, 10762, 6906, 7724, 7472], [6871, 7913, 1857, 3962, 10860, 6736, 4265, 629, 10777, 1978, 3889, 5368, 6611, 6493, 7465, 240, 1148, 3049, 10765, 10415, 6599, 5185, 9005, 7746, 9296, 7219, 10205, 9508, 7392, 201, 4956, 8002, 659, 6633, 58, 3838, 63, 6657, 3614, 6971, 7188, 6920, 7402, 10641, 7389, 8065, 5025, 6891], [1155, 3913, 8948, 4193, 8298, 4156, 3722, 8278, 8059, 4506, 596, 5378, 9530, 9147, 4336, 10749, 8852, 7067, 234, 422, 1540, 6524, 43, 7996, 8291, 3734, 992, 450, 6901, 2823, 4484, 3980, 2196, 458, 8400, 6819, 8268, 2144, 3598, 10872, 8767, 7971, 2329, 8711, 8575, 2985, 678], [7963, 4611, 4214, 1577, 688, 5252, 8294, 4223, 4061, 9153, 9104, 6825, 3653, 4373, 6665, 2579, 3036, 1018, 9686, 8936, 197, 9985, 7671, 10772, 4227, 8120, 8905, 2563, 1442, 4218, 3226, 4706, 7520, 561, 7043, 8103, 5321], [8290, 5384, 3101, 6586, 2957, 2604, 4484, 10171, 7333, 7507, 3189, 5450, 5294, 7492, 8935, 194, 8101, 1170, 2937, 2211, 1580, 4550, 3526, 10768, 8776, 10519, 10223, 7402, 10457, 4999], [8697, 7087, 8865, 8489, 6924, 8022, 8270, 8565, 2639, 9827, 2925, 6773, 9423, 4648, 7896, 9546, 10429, 2561, 10740, 10846, 10442, 4900, 2539, 4518, 9026, 7279, 2865, 7615, 9394], [7351, 10909, 10416, 8000, 9540, 9951, 8045, 172, 8793, 4765, 5406, 4706, 6630, 10048, 8596, 52, 4428, 953, 7859, 3443, 9779, 8519, 5329, 3540, 5484, 7497], [6773, 616, 293, 2828, 9227, 3748, 10885, 3623, 10774, 58, 3305, 4398, 3166, 4946, 8217, 8720, 2725, 9061, 4902, 10786, 3849, 7238, 2750, 8968, 7941, 10689, 3812, 10392, 5303, 2780, 8679, 8294, 9452, 7248, 8537, 8236, 282, 277], [5408, 6569, 10863, 3764, 10369, 5304, 3425, 4140, 7032, 8313, 2462, 9728, 9000, 8462, 7600, 6645, 8287, 5475, 3601, 3627, 2820, 4247, 10644], [7977, 3301, 7551, 7216, 8368, 5316, 7682, 3530, 8538, 6974, 3196, 10102, 9689, 3525, 9963, 7844, 4649, 1330, 10277, 8940, 387, 8270, 6630, 4384, 3704, 7926, 10866, 10208], [1438, 6557, 6577, 7504, 6690, 8364, 8442, 10254, 9999, 9112, 6451, 8993, 7185, 6748, 3295, 4336, 8978, 7720, 4593, 150, 9770, 4924, 8098, 6666], [10140, 3784, 9242, 10751, 5326, 8994, 8150, 7600, 2875, 10443, 10589, 1857, 10787, 9026, 4560, 7963, 10260, 4172, 6892, 7042, 9216, 8080, 7181, 8918, 366, 3617], [4121, 3308, 8404, 8037, 9834, 7362, 9154, 8167, 7369, 6863, 7251, 8313, 9055, 7314, 8723, 2405, 7794, 3401, 2892, 8265, 2969, 7024, 938, 4244, 3059, 8942, 2831, 10906, 5071, 846, 8408, 8096, 10780, 7205, 174, 9840, 8808, 634, 6740, 10749, 3926], [8920, 10213, 10899, 4215, 9821, 9954, 686, 8690, 7412, 277, 10623, 7049, 576, 7052, 8064, 8488, 3879, 4901, 7367, 7338, 4307, 6611, 3368, 10374, 5265, 834, 6504, 7501, 7968, 6520, 208, 3303, 9948, 8705, 256, 8594, 1229, 10557, 3153, 3295, 7216, 1446, 3962], [2873, 1437, 4840, 9389, 10143, 5150, 5208, 4428, 5239, 5468, 362, 7232, 3219, 3063, 7588, 4665, 4112, 7821, 4021, 10351, 7252, 10513, 179, 370, 8350, 8935, 2877, 7465], [3837, 10879, 10302, 1259, 2588, 3119, 4725, 7005, 4608, 171, 1577, 8207, 7449, 2888, 1217, 2862, 378, 9132, 2973, 7808, 319, 8538, 8015, 2804, 9423, 3014, 9409, 6773, 10191, 3153, 8668, 5386, 7062, 3913, 10563], [9767, 10408, 9017, 7847, 418, 3184, 7336, 6798, 10569, 6555, 8037, 6709, 7047, 1540, 8907, 7621, 3345, 10284, 9213, 7832, 9771, 6610], [7478, 824, 7333, 8000, 4816, 7556, 2903, 9513, 9149, 10458, 7340, 2664, 3771, 9021, 8450, 8564, 8865, 2543, 10465, 9400, 8984, 9911, 3513, 10850, 7327, 6670, 7878, 4170, 3259, 4035, 4059, 2196, 6916, 7794, 7613, 8782, 8163, 4987, 8306, 8592], [7368, 7004, 3925, 10528, 3027, 577, 992, 3354, 7986, 7970, 6839, 7047, 10143, 5448, 8238, 7504, 7226, 10873, 9705, 3921, 9848, 9684, 4523, 9517, 9065, 8835, 2501, 6522, 6454, 3472], [4840, 8348, 9792, 634, 3764, 6592, 7089, 4440, 6995, 7150, 10130, 4408, 2713, 4785, 9416, 7790, 8020, 9269, 3581, 143, 7791, 7634, 4306, 3324, 7313, 7486, 6834, 7914, 7168, 9920, 8460, 5086, 3734, 8049, 1521, 1396, 8624, 8918, 9780, 10608, 3538, 628], [2885, 3059, 4140, 9333, 8422, 8438, 6645, 3229, 5392, 7062, 5148, 7581, 7034, 9412, 7970, 3787, 3889, 2786, 3675, 5026, 1524, 7949, 7750, 256, 7442, 920, 2570, 93, 8770, 8599, 6729, 10145, 5006, 7792, 4495, 3189, 7362, 8738, 2405, 7524, 1387, 9840], [7031, 7649, 42, 3472, 5468, 2611, 9050, 3594, 1978, 6693, 10399, 7364, 6613, 7034, 329, 10317, 3559, 6873, 8958, 8061, 282, 5006, 8054, 9039, 6815, 2545, 6428, 122, 4709, 3153, 9832, 435, 7154, 8290, 187, 8305, 10840, 1249, 342, 10385, 4968, 10070, 167], [1857, 7825, 9808, 489, 8068, 3152, 4205, 10374, 10752, 7061, 10783, 6960, 8691, 5150, 8604, 6489, 9010, 414, 8875, 6761, 3596, 3363, 3054, 9736, 6625, 6971, 2916, 2164], [6983, 8776, 8620, 7760, 9137, 8437, 4985, 6667, 293, 10513, 9520, 9227, 7021, 3592, 7001, 7244, 9774, 3547, 10747, 294, 8944, 4717, 693, 6559, 6919, 5283, 1662, 5106, 4528, 7069, 3061, 4217, 8061, 6642, 1528, 6657, 2468, 2889, 7641, 8693, 931, 8233, 1249, 7974, 298, 2531, 9369], [3978, 9737, 3900, 7915, 8681, 9408, 4736, 226, 6667, 8846, 10399, 9740, 3010, 3683, 3137, 9130, 7652, 9543, 10119, 7252, 1068, 9021, 5447, 6603, 8898, 7122, 9680, 7267, 2746], [4966, 10461, 7660, 1442, 10395, 7294, 10703, 8779, 2897, 3978, 9723, 6855, 4469, 7139, 4973, 4796, 6799, 6814, 8603, 1085, 9790, 1593, 7027], [8648, 7411, 8909, 8585, 751, 332, 6950, 5063, 8827, 9512, 8420, 7139, 7186, 4241, 824, 6572, 930, 4161, 10685, 7795, 5473, 8143, 3764, 10548, 531, 10094, 5392, 9163, 3103, 8635, 2950, 10573, 5354, 4378, 2986, 7006, 8214, 3620, 10783, 2768, 9821, 7832, 360, 2901, 10016, 4064], [6815, 3359, 6809, 346, 8659, 606, 9153, 1944, 10740, 85, 8172, 4213, 9826, 2865, 8909, 2364, 8993, 7181, 89, 9246, 2959, 3065, 5321, 10613, 4172, 2563, 9777, 4269, 9742, 6932, 9979, 3805, 3282, 6671, 5423, 2835, 6606, 435, 6974, 620], [5349, 9294, 7861, 9158, 9393, 8944, 8049, 2737, 7009, 4482, 4902, 6723, 3242, 6582, 1074, 6737, 8034, 6718, 5213, 7349, 8309, 8635, 5211, 10309, 9867, 8305], [8099, 4948, 9239, 2528, 7321, 2803, 3498, 10403, 8593, 3936, 342, 7673, 7859, 8651, 2066, 5059, 9979, 1144, 3116, 5078, 6498, 7378, 3348, 1018, 3368, 4241, 8822, 7040, 131, 10385, 3598], [10440, 2566, 5213, 9716, 396, 7294, 4949, 998, 6919, 8329, 4608, 8088, 7850, 7681, 4984, 7175, 588, 8222, 4901, 7168, 10290, 4047, 7212, 7063, 8750, 7109, 2963, 8700, 4770, 7367, 3909, 8320, 8163, 2656, 9996, 9352, 4061, 8200, 7485, 366, 5422, 256, 3455, 8811, 6530, 152, 8731, 10589, 6894], [4648, 472, 8770, 4617, 3779, 2818, 8121, 7577, 3828, 9061, 3592, 6743, 7847, 10895, 7360, 8613, 3230, 8053, 2189, 10741, 4953, 8085, 9909, 7771, 2853, 3054, 8478, 970, 3980, 45, 721, 7590, 8763, 5373, 8743, 2970, 459, 4423, 3762, 3091, 5368, 10716, 4366, 10531, 3729], [7244, 10905, 7652, 6721, 7913, 5192, 2889, 10422, 7274, 7595, 7052, 9832, 8591, 9750, 7498, 7596, 117, 4059, 5371, 3216, 779, 5185, 6671, 5354, 10385, 3596, 7928, 40, 7001, 4068, 4395, 9270, 7752, 4037, 10482, 7489, 8928], [10457, 10750, 7688, 7076, 8104, 5190, 2791, 3337, 6724, 5188, 85, 5189, 370, 10716, 4026, 2691, 279, 6857, 7399, 7936, 751, 7061, 7267, 9971, 3119, 4332, 6727, 468, 6736, 8927, 3448, 9066, 7752, 8710, 7295, 8168, 8885, 8224, 8782, 10567, 3899], [9966, 8121, 8949, 9033, 2775, 9520, 4176, 7084, 4346, 6950, 9497, 2479, 2577, 3762, 7914, 7978, 4423, 3135, 7641, 3593], [5012, 467, 9872, 366, 191, 4420, 3055, 8131, 8128, 495, 8530, 9868, 1521, 6787, 7405, 4614, 10600, 7580, 8545, 10581, 9409, 3033, 10493, 4410, 8516, 408, 8255, 7615, 8888, 8919, 7673, 3349, 8613, 6719, 4550, 7822], [8594, 6896, 266, 3598, 8131, 6500, 7252, 8259, 2570, 3593, 7716, 7206, 6919, 10328, 52, 324, 2847, 7853, 6809, 10406, 9015, 3427, 9382, 2542, 2919, 3056], [3476, 3145, 7305, 3608, 7609, 3543, 7782, 7497, 9695, 10619, 4000, 3497, 2530, 4530, 7888, 5363, 5353, 10381, 4934, 3723, 9497, 6611, 3226, 9946, 7753, 2815, 9494, 4388, 5354, 8195, 3402, 2113, 3769, 10048, 5206], [10863, 173, 10619, 2900, 10905, 2731, 1882, 8676, 3384, 7332, 8225, 10778, 9130, 3132, 1947, 211, 1042, 2673, 7112, 10202, 5192, 8173, 9513, 8151, 9754, 8779, 6600, 10759, 10505], [552, 4929, 8653, 10716, 6723, 8081, 9495, 88, 7337, 9483, 603, 8029, 9827, 7820, 3301, 8171, 6663, 8244, 970, 5237, 3337, 615, 7679, 10573, 10613, 6504, 2639, 7496, 4410, 9832, 2831, 971, 7767, 3057, 1100, 6511, 3483, 6657, 366, 5378, 3588, 8030, 7596], [8383, 2417, 10234, 7002, 8252, 10280, 7540, 1528, 6569, 8800, 575, 10476, 10828, 7596, 2579, 8795, 10110, 3716, 8060, 10032, 7727, 6770, 10175, 10415, 10788, 1157, 8098, 589, 8648, 174, 9384, 8471, 1075, 3009, 8714, 6677, 8667, 7455, 3601, 3780, 7296], [8012, 8439, 1157, 7945, 3301, 1168, 8238, 6912, 9210, 9024, 3284, 2727, 5223, 7789, 4218, 4662, 3840, 4796, 7303, 7855, 9791, 7688, 10233, 2078, 7065, 7747, 7928, 8243, 3296, 7804, 7494, 7655, 7456, 4111, 4675, 10206, 7295], [5474, 4450, 10580, 616, 8214, 9162, 4133, 3295, 4709, 8746, 7995, 8168, 2757, 3143, 7013, 8133, 6641, 5229, 8673, 4658, 10198, 4650, 8320, 8808, 7247, 5143, 9536, 6611, 7503, 5159, 6778, 7704, 4383, 6643, 7710], [3271, 224, 605, 1031, 566, 7760, 378, 7314, 5466, 7054, 5265, 7465, 3408, 10081, 10569, 10654, 4594, 4423, 7367, 1505, 223, 5392, 5128, 3363, 4785], [10759, 2757, 8272, 6460, 8638, 4951, 4515, 5465, 8489, 8798, 8703, 6748, 3913, 2417, 8874, 2901, 4692, 558, 3256, 7732, 5353, 7340, 7195, 5096, 2984, 4771, 2751, 3003, 7440, 2883, 8145], [4341, 7006, 10317, 3642, 6683, 465, 3133, 4614, 1861, 7413, 2969, 7671, 10216, 10406, 593, 5311, 10654, 4223, 6721, 7793, 10837, 10778, 76, 7358, 7474, 1320, 3235], [9716, 8927, 502, 8666, 4341, 3488, 8518, 8938, 7935, 10585, 7883, 10111, 595, 10759, 9508, 824, 7509, 9332, 8490, 92, 10729, 5128, 7940, 10213, 7435, 9239, 9389, 2778, 1293, 7645, 8560, 4749], [249, 8575, 9030, 10564, 8863, 1699, 2825, 9162, 383, 2829, 2897, 2605, 4093, 8607, 9056, 9141, 9158, 8786, 7571, 10807, 6967, 9740, 2856, 776, 495, 10374, 10357, 3978, 7045, 8749, 240, 9365, 8473, 7155, 4776, 9511, 8251, 8720, 8804, 7027, 10772, 6796, 7776, 9063, 649, 8987], [2366, 8935, 8588, 467, 8937, 9540, 7949, 1541, 8930, 603, 6426, 2873, 4277, 10283, 6639, 80, 8222, 8305, 3708, 374, 6886, 7562, 6475, 1716, 6455, 8044, 3310, 9112, 9781, 10905, 953, 7212, 7126], [10425, 10808, 5150, 9211, 591, 8038, 4223, 1303, 7461, 8423, 8885, 7979, 5318, 4460, 8020, 7538, 10139, 7914, 1507, 178, 3166, 2325, 9740, 7076, 6460, 10175, 9362, 1551, 10385, 3723, 3168, 5379, 1559, 6546, 6664, 8454, 7847, 4956], [7780, 8018, 2945, 7704, 4028, 8075, 8298, 10230, 10450, 9908, 8374, 9058, 6778, 8648, 4055, 10642, 4205, 8768, 3229, 10731, 8558, 220, 8488], [8075, 9423, 7616, 8584, 6759, 1587, 8121, 10689, 332, 10828, 8714, 7977, 5423, 9855, 6426, 9954, 1593, 6663, 691, 4213, 6665, 463, 7792, 3780, 7915, 8080, 8620, 7919, 5386, 10685, 3057, 501], [6502, 6885, 6585, 8791, 6554, 8163, 611, 4987, 6494, 193, 851, 7714, 10759, 5398, 7581, 9351, 9471, 7662, 2923, 7106, 3443, 3917, 7508, 2189, 7076, 3022, 7954, 4096, 3321, 1141, 8533, 8705, 2916, 4876, 5134, 6614, 298, 6944, 4665], [1699, 9695, 3413, 7006, 8645, 10263, 10443, 6634, 2742, 10102, 2990, 8478, 8379, 465, 3717, 8313, 8750, 8314, 52, 10561, 4037, 2111], [159, 6904, 6580, 1149, 6525, 606, 8030, 232, 9341, 9158, 4277, 5415, 10566, 691, 8096, 8199, 8942, 8958, 1117, 4337, 9408, 7229, 4037, 7989, 5101, 2571, 9423, 8765, 250, 8635, 10789, 7333, 1809, 8871, 8661, 10408], [3969, 8400, 494, 3656, 7030, 1593, 6600, 10300, 4433, 6673, 364, 7589, 9101, 5096, 9765, 2797, 280, 8217, 1399, 4957, 559, 4068, 9193, 6660, 7732, 109, 4394, 9737, 10171, 4241, 5269, 1797, 5229], [3161, 9718, 9135, 8928, 8117, 8299, 10563, 8884, 10011, 4247, 3058, 7961, 7399, 9184, 930, 6921, 6992, 3402, 7681, 9492, 5424, 7143, 7484], [9254, 1034, 7089, 3372, 8512, 507, 9184, 6610, 3065, 7340, 8526, 4803, 7766, 952, 9020, 4528, 123, 9765, 7714, 104, 4096, 6668, 6875, 6931, 2940, 4450, 373, 4875, 1557, 3225, 7214, 6736, 2942, 7137], [8394, 7101, 9547, 5062, 6955, 1204, 6978, 3559, 8814, 3321, 119, 7415, 5028, 8213, 4919, 5424, 2803, 7155, 9102, 3983, 4129, 9514, 8187, 9024], [7427, 7000, 10619, 4788, 7807, 9395, 4803, 2925, 9409, 7185, 8371, 2985, 8832, 6891, 8060, 3017, 1581, 7549, 916, 3430, 7493, 10786, 4301, 642, 10054, 480, 7181, 7929, 8383, 2561, 8076, 7623, 2731, 10082, 9982, 4352, 122, 744, 6564, 1861], [8269, 561, 7903, 7589, 8565, 3229, 8076, 5234, 5410, 6597, 6966, 4312, 10446, 10851, 7269, 7667, 5400, 4380, 3221, 801, 8279, 392, 5211, 9401, 6454, 3937, 9556, 5297, 7880, 8003, 9409, 8088, 8903, 10686, 10236, 10741], [9518, 10203, 7148, 7062, 626, 10511, 8694, 10330, 4573, 10032, 9948, 3483, 9032, 6932, 8807, 5063, 6922, 7235, 5018, 8731, 3292, 2748, 2985, 7790, 2566, 9219, 10219, 4192, 2667, 6624, 7427, 4978, 10892, 8596, 7756, 1541, 9503, 6449, 10367, 4840, 9210, 10283, 3141], [7526, 10773, 2561, 10685, 136, 6773, 6742, 6683, 3431, 92, 3759, 8216, 8732, 2757, 6499, 2211, 1505, 7308, 8651, 452, 7747, 327, 1356, 4177, 3054, 7532, 8538, 8839, 6975, 3155], [9271, 4279, 5057, 5134, 494, 9191, 8452, 2919, 404, 6631, 1267, 10097, 3879, 3989, 4939, 7790, 10508, 8337, 7451, 1565, 3749, 3416, 6856, 9503, 8483], [518, 3020, 9333, 6874, 10265, 8306, 2897, 8370, 376, 10530, 6599, 7223, 6728, 7549, 5288, 3369, 1593, 4400, 4769, 2795, 7968, 1420, 6549, 92, 8897, 1136, 744, 9158, 8418, 9849, 8413, 6650, 10393], [3140, 6444, 552, 1100, 3687, 4023, 6521, 3944, 4796, 6893, 8035, 9015, 8866, 4924, 3830, 9228, 10905, 7995, 10215, 5084, 10263, 10482, 7120, 7226, 9694, 2047, 4561, 7896, 6616, 2873, 8162, 3159, 2773, 5466, 3530, 8626, 8385, 9538, 3701, 8234, 5102, 8573, 8716, 6566], []]\n",
      "[[1, 2, 2, 4, 2, 4, 3, 3, 3, 3, 1, 1, 2, 4, 4, 1, 4, 3, 2, 4, 4, 2, 2, 3, 1, 1, 3, 4, 3, 3, 2, 1, 3, 3, 4, 2, 3], [2, 2, 3, 3, 2, 1, 1, 3, 2, 1, 1, 4, 4, 4, 4, 4, 4, 4, 3, 1, 2, 2, 2, 3], [3, 3, 3, 4, 4, 3, 4, 3, 2, 4, 4, 3, 3, 2, 1, 1, 2, 1, 1, 2, 1, 4, 2, 4, 2, 3, 4, 3, 4, 3, 4, 2], [3, 4, 2, 4, 4, 3, 2, 1, 3, 4, 1, 3, 4, 1, 3, 2, 2, 2, 4, 2, 2, 2, 4, 2, 3, 3, 2, 1, 3, 3, 1, 2, 1, 1, 3, 3, 4, 3, 2, 1, 2, 1, 4, 1, 4, 4, 1, 3], [3, 3, 4, 1, 1, 2, 1, 3, 2, 1, 2, 3, 1, 1, 4, 3, 2, 3, 3, 3], [1, 1, 2, 4, 2, 3, 4, 1, 3, 2, 4, 1, 2, 2, 3, 4, 2, 4, 2, 4, 3, 3, 4, 4, 2, 1, 2, 2, 4, 3, 2, 2], [1, 3, 1, 4, 3, 3, 4, 1, 4, 2, 2, 4, 2, 1, 2, 4, 1, 1, 3, 2, 2, 2, 2, 3, 2, 3, 4, 2], [1, 2, 3, 3, 3, 4, 3, 4, 4, 2, 3, 2, 3, 4, 1, 4, 1, 3, 4, 4, 3, 2, 2, 1, 4, 2, 3, 4, 4, 4, 2, 4, 3, 1, 1, 3, 2, 4, 2, 2, 2, 2, 4, 1, 1, 2, 1, 1], [3, 3, 1, 4, 4, 1, 3, 4, 3, 1, 3, 2, 1, 2, 4, 2, 2, 2, 3, 3, 3, 3, 4, 4, 1, 1, 1, 4, 4, 1, 3, 4, 3, 2, 2, 2, 1], [3, 4, 4, 1, 1, 1, 1, 1, 2, 3, 2, 3, 2, 3, 3, 4, 2, 2, 3, 2, 4, 4, 2, 4, 1, 3, 2, 4, 3, 2, 1, 3, 2, 1, 3, 1, 1, 2, 1, 3, 3, 3, 2, 2], [2, 2, 1, 1, 4, 2, 1, 2, 2, 1, 3, 1, 4, 2, 2, 2, 3, 2, 3, 3, 4, 3, 1, 4, 4, 4, 4, 1, 1, 2, 4, 2, 2, 3, 2, 4, 4, 1, 4, 2, 4, 2, 3, 1], [1, 3, 3, 2, 4, 1, 1, 4, 1, 2, 2, 1, 1, 4, 4, 4, 2, 2, 2, 1, 3, 2, 2, 1, 2, 1, 1, 4, 2, 4, 3, 3, 1], [2, 3, 1, 1, 2, 4, 4, 2, 2, 4, 4, 4, 1, 4, 3, 3, 2, 4, 4, 1, 2, 2, 1], [4, 4, 1, 2, 4, 1, 3, 1, 4, 2, 4, 2, 4, 3, 3, 4, 2, 3, 2, 4, 2, 3, 3, 3, 3, 4], [3, 4, 1, 2, 4, 3, 4, 2, 3, 3, 3, 4, 3, 1, 1, 4, 3, 3, 2, 3, 1, 4, 2, 1, 2, 3, 2, 3, 3, 3, 3, 3, 3, 1, 3, 4, 1, 2, 1, 1, 2, 3, 2, 2, 3], [4, 4, 1, 4, 3, 1, 1, 2, 4, 4, 4, 1, 1, 2, 2, 2, 3, 3, 3, 4, 2, 4, 1, 3, 3, 4, 3, 2, 4, 2, 1, 3, 2, 1, 4, 1, 2, 2, 3, 3, 3], [2, 4, 4, 2, 3, 2, 4, 3, 3, 4, 4, 4, 2, 4, 1, 1, 3, 4, 2, 4, 1, 1, 3, 2, 1, 1, 2, 1, 2, 2, 4, 1, 4, 4, 3, 3, 4, 1, 3, 1, 4, 2, 4, 4, 1], [4, 3, 1, 1, 4, 2, 3, 2, 1, 1, 1, 2, 4, 4, 3, 4, 1, 1, 3, 4, 4, 1, 1, 3, 2, 1, 1, 4], [3, 3, 1, 4, 1, 3, 1, 4, 2, 2, 4, 4, 2, 1, 1, 4, 4, 4, 4, 2, 2, 2, 2, 1, 4, 1], [1, 1, 4, 1, 1, 4, 1, 4, 2, 2, 3, 2, 2, 3, 2, 2, 1, 4, 1, 2, 4, 3, 4, 4, 4, 4, 4, 3, 3, 4, 3, 3, 1, 1, 3, 2, 4, 1, 2, 4, 1, 3], [3, 4, 1, 4, 2, 4, 1, 2, 2, 2, 1, 4, 2, 3, 2, 3, 2, 1, 1, 1, 1, 2, 1, 2], [2, 3, 2, 1, 3, 4, 2, 3, 3, 3, 2, 3, 1, 4, 1, 2, 3, 3, 1, 4, 2, 4, 4], [3, 2, 3, 3, 3, 4, 1, 2, 3, 1, 4, 1, 3, 1, 3, 3, 4, 1, 3, 2, 1, 1, 1, 3, 4, 4, 1, 2, 2, 2, 3, 4, 4, 1, 1, 2], [4, 3, 4, 4, 3, 4, 3, 2, 2, 3, 1, 3, 1, 1, 3, 3, 2, 2, 1, 3, 2, 3, 2, 2, 4, 1, 2, 1, 1, 1, 4, 4, 3, 4], [1, 4, 2, 4, 4, 1, 2, 4, 1, 3, 3, 3, 2, 2, 2, 4, 1, 4, 1, 2, 4, 3, 1, 4, 4, 1, 4, 3, 4, 4, 3, 4, 3, 1, 2, 4, 2, 3, 2, 1, 1, 2, 4, 3, 1, 2, 3, 3, 1], [3, 3, 3, 1, 4, 4, 3, 4, 2, 4, 4, 3, 3, 3, 2, 2, 2, 4, 4, 1, 4, 3, 3, 1, 3, 2, 1, 2, 1, 4, 1, 1, 3, 1, 1, 3, 4, 4, 2, 2, 1, 1, 2, 2, 2, 3, 4], [3, 1, 1, 2, 3, 2, 2, 1, 4, 2, 1, 1, 4, 4, 2, 2, 2, 2, 3, 3, 4, 3], [3, 4, 2, 2, 4, 4, 1, 1, 2, 1, 3, 2, 2, 1, 3, 3, 3, 1, 2, 2, 4, 2, 1, 3, 4, 2, 3, 1, 1, 1], [1, 2, 2, 3, 4, 3, 4, 2, 4, 4, 3, 2, 3, 2, 3, 1, 2, 1, 1, 4, 1, 3, 2, 4, 2, 4, 2, 1, 1], [4, 1, 4, 3, 2, 2, 1, 3, 2, 1, 2, 1, 1, 2, 4, 4, 3, 2, 4, 2, 2, 4, 4, 2], [2, 4, 4, 3, 3, 2, 1, 3, 3, 1, 4, 4, 4, 3, 4, 4, 1, 4, 2, 2, 2, 4, 4, 4, 1], [1, 3, 1, 1, 3, 4, 1, 1, 3, 2, 3, 3, 3, 2, 4, 1, 1, 3, 4, 4, 1, 4, 2, 4, 3, 3, 4, 4], [4, 4, 1, 4, 4, 3, 4, 2, 3, 4, 3, 3, 2, 4, 4, 1, 1, 1, 4, 1, 1, 4, 3, 3, 4, 3, 2, 1], [3, 2, 3, 1, 4, 4, 4, 2, 3, 4, 1, 2, 4, 1, 4, 2, 2, 1, 1, 4, 2, 2, 2, 3, 1, 1, 3, 4, 1, 1, 1, 1, 1, 3, 3, 1, 2, 1, 4, 4, 3, 2, 2, 1, 3, 4, 2], [1, 4, 1, 3, 3, 3, 4, 2, 2, 3, 2, 3, 2, 4, 3, 3, 2, 2, 1, 1, 2, 1, 3, 1, 1, 1, 1, 4, 1, 4, 1, 3, 3, 1, 4], [1, 1, 2, 1, 3, 3, 3, 4, 3, 4, 3, 1, 1, 4, 2, 1, 2, 3, 4, 2, 4, 1, 4, 1, 1, 4, 2, 1, 4], [1, 3, 2, 4, 4, 4, 4, 2, 1, 3, 2, 4, 3, 2, 2, 3, 3, 1, 3, 1, 4, 4, 1, 3, 1, 1, 2, 3, 2, 4, 1, 1, 2, 4, 4, 2, 2, 1, 2, 1, 1, 3, 4, 3, 3, 1, 1, 4], [1, 1, 4, 4, 4, 3, 1, 4, 4, 4, 4, 1, 2, 1, 1, 2, 1, 1, 4, 3, 3, 4, 1, 1, 1, 3, 3, 1, 1, 4, 3, 3, 4, 2, 4, 2, 2, 4, 4, 1, 3, 4, 2, 4, 2, 4, 2], [4, 2, 4, 4, 2, 2, 2, 3, 4, 4, 2, 1, 4, 4, 4, 1, 2, 2, 4, 1, 4, 1, 3, 1, 4, 4, 4, 2, 2, 2, 2, 3, 4, 1, 2, 4, 2], [1, 2, 2, 3, 3, 3, 3, 3, 2, 3, 2, 2, 4, 1, 3, 1, 2, 3, 1, 2, 3, 1, 4, 1, 3, 3, 4, 3, 1, 1], [1, 2, 4, 1, 1, 2, 2, 3, 2, 3, 1, 2, 2, 3, 1, 3, 1, 1, 1, 3, 4, 2, 2, 3, 4, 3, 2, 4, 3], [1, 4, 2, 3, 1, 1, 4, 1, 1, 3, 1, 1, 4, 3, 1, 1, 4, 3, 1, 4, 2, 3, 1, 2, 3, 2], [4, 4, 3, 2, 4, 4, 4, 4, 3, 3, 1, 4, 4, 2, 1, 3, 3, 3, 4, 2, 2, 2, 4, 4, 3, 1, 1, 1, 4, 1, 3, 1, 2, 4, 1, 4, 1, 3], [4, 3, 4, 3, 1, 3, 1, 1, 3, 1, 4, 4, 3, 1, 3, 2, 1, 1, 4, 3, 2, 1, 4], [2, 4, 1, 2, 3, 2, 4, 4, 4, 3, 4, 2, 1, 2, 4, 2, 4, 4, 1, 2, 4, 4, 1, 1, 1, 1, 4, 1], [2, 4, 1, 4, 3, 3, 1, 4, 3, 3, 1, 1, 1, 1, 3, 1, 4, 2, 3, 2, 1, 4, 3, 2], [1, 2, 1, 4, 3, 1, 1, 1, 1, 2, 3, 4, 4, 2, 1, 1, 2, 3, 3, 3, 3, 3, 1, 2, 2, 4], [3, 1, 4, 3, 1, 3, 2, 3, 3, 3, 1, 1, 1, 3, 4, 1, 3, 3, 4, 4, 1, 2, 4, 3, 3, 1, 2, 1, 3, 4, 3, 4, 2, 3, 3, 2, 2, 3, 3, 3, 3], [4, 1, 4, 4, 3, 3, 4, 2, 2, 2, 2, 3, 4, 2, 2, 3, 3, 4, 3, 1, 2, 2, 4, 4, 2, 1, 2, 4, 1, 4, 3, 1, 3, 4, 3, 4, 3, 3, 2, 4, 4, 1, 2], [2, 2, 4, 4, 2, 2, 2, 2, 4, 3, 2, 4, 2, 1, 4, 2, 2, 3, 4, 3, 1, 3, 2, 3, 1, 2, 4, 2], [2, 2, 2, 4, 3, 2, 2, 1, 2, 3, 3, 4, 1, 1, 3, 4, 1, 2, 1, 4, 1, 1, 4, 1, 1, 3, 1, 2, 4, 2, 2, 1, 1, 1, 1], [1, 3, 3, 2, 3, 1, 4, 4, 2, 2, 1, 1, 3, 2, 3, 2, 1, 2, 1, 2, 4, 2], [1, 1, 1, 4, 1, 2, 3, 2, 1, 1, 4, 2, 3, 2, 1, 4, 1, 2, 1, 2, 1, 2, 3, 3, 4, 4, 2, 1, 3, 1, 4, 2, 2, 4, 2, 2, 1, 4, 3, 3], [1, 4, 3, 3, 2, 1, 4, 1, 4, 4, 3, 1, 2, 1, 2, 1, 1, 2, 3, 4, 2, 3, 1, 4, 1, 2, 2, 3, 1, 4], [1, 2, 2, 2, 2, 2, 3, 2, 2, 1, 2, 4, 3, 4, 3, 3, 4, 1, 1, 2, 2, 1, 4, 2, 1, 3, 4, 4, 4, 1, 3, 2, 4, 4, 4, 1, 3, 4, 1, 2, 4, 1], [2, 3, 3, 3, 4, 1, 2, 3, 1, 3, 4, 4, 4, 3, 1, 2, 1, 3, 3, 4, 3, 1, 3, 4, 2, 4, 4, 1, 1, 2, 4, 4, 3, 1, 1, 3, 4, 1, 3, 4, 1, 1], [1, 2, 2, 3, 2, 3, 2, 3, 1, 3, 4, 3, 3, 1, 4, 1, 2, 4, 2, 2, 1, 1, 4, 4, 1, 3, 4, 2, 4, 1, 1, 2, 1, 3, 3, 2, 3, 2, 2, 2, 2, 1, 4], [3, 1, 2, 3, 3, 1, 4, 2, 4, 4, 4, 2, 3, 2, 3, 4, 3, 3, 3, 1, 1, 2, 4, 2, 4, 3, 4, 1], [2, 3, 3, 1, 3, 1, 1, 4, 1, 3, 1, 4, 2, 3, 2, 3, 2, 1, 4, 4, 2, 3, 4, 1, 4, 3, 3, 2, 3, 3, 2, 2, 3, 2, 1, 4, 1, 1, 3, 2, 3, 2, 2, 4, 1, 4, 2], [4, 4, 2, 4, 3, 3, 3, 2, 4, 1, 2, 3, 3, 4, 2, 1, 3, 1, 1, 2, 3, 2, 1, 2, 1, 2, 3, 4, 4], [2, 4, 3, 3, 4, 3, 3, 2, 3, 3, 1, 4, 2, 4, 4, 2, 3, 1, 1, 4, 2, 3, 1], [2, 1, 4, 4, 1, 1, 3, 1, 2, 2, 2, 3, 3, 4, 3, 1, 1, 2, 3, 4, 3, 2, 1, 3, 2, 1, 4, 1, 1, 3, 4, 3, 1, 2, 2, 3, 4, 4, 1, 2, 3, 3, 1, 2, 1, 3], [3, 4, 1, 1, 2, 3, 1, 4, 4, 4, 1, 3, 4, 2, 1, 1, 4, 4, 3, 1, 2, 1, 4, 4, 1, 4, 4, 3, 1, 2, 2, 1, 3, 1, 4, 1, 4, 2, 1, 2], [3, 3, 4, 3, 2, 3, 2, 4, 1, 4, 4, 3, 4, 4, 4, 2, 3, 1, 1, 2, 3, 4, 1, 2, 1, 2], [2, 1, 1, 4, 1, 4, 4, 2, 1, 4, 1, 1, 1, 1, 2, 4, 1, 1, 4, 3, 3, 1, 2, 3, 3, 3, 3, 4, 4, 4, 3], [3, 1, 1, 2, 4, 1, 4, 3, 1, 1, 2, 4, 2, 2, 1, 3, 2, 4, 1, 1, 2, 4, 1, 3, 1, 4, 2, 3, 1, 4, 2, 3, 4, 4, 3, 1, 3, 2, 3, 2, 1, 2, 1, 2, 1, 2, 1, 1, 3], [4, 1, 3, 1, 4, 1, 1, 3, 1, 2, 4, 4, 3, 3, 2, 1, 3, 1, 3, 3, 2, 4, 2, 3, 1, 3, 4, 2, 1, 2, 3, 2, 3, 4, 2, 1, 2, 4, 1, 1, 1, 4, 1, 2, 1], [4, 1, 4, 2, 2, 3, 2, 4, 4, 3, 1, 3, 2, 4, 4, 3, 4, 4, 3, 4, 2, 2, 4, 1, 1, 2, 3, 4, 1, 2, 3, 4, 2, 3, 3, 4, 3], [3, 4, 4, 2, 3, 3, 2, 1, 1, 3, 2, 3, 3, 4, 1, 3, 1, 3, 4, 4, 3, 2, 4, 4, 3, 3, 3, 2, 4, 3, 3, 3, 1, 1, 2, 3, 1, 3, 4, 1, 3], [2, 1, 2, 4, 2, 2, 3, 3, 1, 4, 1, 1, 2, 1, 4, 4, 2, 3, 3, 1], [3, 1, 2, 2, 3, 2, 3, 4, 2, 1, 1, 3, 1, 1, 3, 4, 3, 3, 3, 3, 2, 2, 2, 1, 1, 4, 3, 4, 4, 4, 4, 2, 1, 2, 3, 3], [4, 1, 2, 2, 2, 1, 4, 3, 2, 2, 1, 2, 4, 2, 3, 1, 4, 3, 1, 2, 3, 3, 3, 4, 1, 2], [3, 2, 4, 2, 3, 3, 1, 2, 2, 4, 3, 3, 1, 4, 4, 3, 2, 1, 4, 4, 1, 2, 4, 2, 3, 2, 3, 4, 1, 4, 1, 3, 3, 2, 4], [2, 4, 4, 1, 4, 1, 2, 3, 3, 4, 1, 1, 1, 2, 1, 4, 3, 3, 3, 3, 3, 1, 1, 1, 1, 3, 4, 2, 1], [4, 1, 1, 3, 2, 1, 4, 4, 1, 2, 2, 2, 2, 3, 3, 1, 4, 4, 3, 1, 4, 1, 2, 2, 2, 4, 1, 3, 2, 4, 4, 2, 1, 2, 3, 1, 1, 2, 1, 3, 3, 1, 4], [4, 2, 1, 2, 1, 4, 1, 4, 4, 2, 1, 3, 2, 4, 4, 2, 3, 4, 2, 4, 1, 1, 4, 4, 3, 4, 1, 1, 1, 4, 2, 4, 4, 4, 4, 3, 2, 1, 2, 2, 2], [2, 3, 4, 4, 3, 2, 3, 1, 3, 3, 1, 4, 4, 3, 2, 2, 1, 1, 4, 2, 2, 2, 1, 2, 4, 2, 4, 1, 4, 2, 2, 1, 1, 1, 3, 3, 1], [2, 3, 1, 4, 1, 3, 2, 1, 4, 1, 1, 2, 4, 4, 3, 4, 2, 3, 1, 2, 4, 4, 4, 2, 4, 1, 2, 4, 3, 4, 4, 2, 4, 3, 3], [4, 2, 1, 1, 4, 1, 1, 2, 2, 3, 2, 4, 4, 4, 3, 4, 1, 2, 3, 2, 2, 4, 1, 2, 3], [1, 2, 3, 3, 3, 4, 3, 2, 3, 2, 2, 2, 2, 2, 4, 2, 4, 3, 2, 3, 2, 1, 1, 4, 4, 3, 1, 2, 3, 1, 4], [1, 1, 2, 2, 4, 2, 3, 3, 3, 2, 4, 4, 3, 3, 1, 4, 1, 1, 4, 4, 1, 4, 2, 2, 1, 4, 3], [3, 1, 3, 4, 4, 4, 1, 2, 4, 3, 2, 3, 4, 2, 3, 2, 1, 1, 2, 2, 3, 4, 3, 3, 3, 1, 1, 3, 4, 3, 1, 1], [3, 3, 4, 3, 3, 3, 3, 2, 1, 2, 1, 2, 3, 1, 3, 2, 3, 4, 2, 1, 4, 3, 2, 2, 3, 4, 4, 4, 4, 4, 1, 2, 2, 4, 3, 2, 4, 3, 4, 1, 1, 4, 3, 1, 3, 4], [4, 4, 2, 4, 3, 3, 1, 2, 2, 2, 3, 3, 3, 3, 1, 4, 4, 4, 4, 1, 4, 4, 3, 2, 2, 2, 1, 2, 4, 4, 2, 3, 2], [2, 1, 4, 2, 1, 4, 3, 4, 2, 2, 1, 3, 3, 3, 2, 1, 1, 3, 2, 2, 3, 1, 1, 2, 1, 3, 2, 4, 4, 2, 1, 2, 1, 1, 1, 2, 1, 2], [3, 4, 2, 3, 1, 4, 3, 2, 4, 3, 1, 3, 4, 2, 1, 3, 1, 3, 2, 2, 3, 3, 3], [3, 4, 1, 2, 2, 4, 3, 4, 2, 2, 4, 3, 1, 2, 3, 2, 2, 2, 1, 1, 1, 1, 3, 4, 1, 4, 3, 1, 4, 2, 1, 2], [3, 4, 4, 2, 4, 3, 4, 3, 1, 1, 2, 3, 4, 2, 3, 3, 3, 2, 4, 3, 3, 1, 4, 1, 3, 4, 3, 4, 2, 4, 2, 3, 3, 3, 4, 4, 1, 3, 4], [3, 4, 1, 4, 3, 1, 2, 2, 1, 3, 2, 1, 3, 1, 4, 3, 2, 3, 3, 4, 1, 3], [1, 2, 2, 4, 3, 1, 2, 3, 1, 3, 4, 1, 3, 3, 3, 4, 1, 3, 3, 3, 2, 3, 4, 1, 1, 2, 4, 2, 3, 3, 4, 2, 2, 1, 4, 2], [3, 4, 4, 3, 4, 4, 4, 3, 1, 4, 1, 3, 3, 2, 3, 2, 4, 1, 1, 4, 1, 3, 2, 4, 3, 4, 4, 3, 4, 1, 4, 3, 2], [3, 2, 2, 2, 1, 2, 4, 3, 3, 4, 3, 1, 4, 1, 4, 2, 1, 2, 2, 3, 4, 1, 3], [1, 2, 2, 2, 2, 2, 1, 1, 1, 1, 4, 1, 1, 2, 4, 1, 1, 4, 4, 1, 3, 2, 1, 1, 4, 4, 1, 1, 1, 1, 2, 4, 1, 3], [1, 2, 1, 3, 2, 2, 1, 1, 4, 4, 1, 2, 3, 2, 3, 3, 3, 4, 3, 4, 1, 3, 4, 4], [3, 3, 2, 2, 4, 2, 3, 1, 1, 3, 4, 4, 1, 2, 4, 3, 4, 2, 3, 2, 4, 3, 3, 1, 1, 1, 1, 1, 1, 1, 2, 2, 2, 2, 4, 1, 4, 4, 4, 2], [4, 1, 2, 3, 4, 2, 2, 1, 3, 2, 3, 1, 1, 3, 4, 1, 2, 1, 3, 1, 4, 2, 3, 1, 2, 2, 1, 3, 4, 2, 3, 4, 3, 2, 3, 3], [3, 2, 1, 2, 2, 3, 4, 3, 3, 3, 1, 2, 3, 4, 3, 4, 2, 3, 2, 4, 3, 4, 4, 3, 3, 4, 1, 4, 4, 2, 4, 4, 1, 3, 3, 2, 4, 1, 1, 4, 4, 1, 1], [4, 3, 2, 3, 4, 4, 3, 3, 3, 1, 4, 1, 1, 1, 4, 3, 3, 1, 1, 1, 3, 3, 1, 2, 1, 3, 1, 3, 4, 4], [3, 4, 1, 4, 1, 4, 2, 3, 4, 1, 3, 3, 1, 1, 1, 1, 1, 1, 4, 2, 2, 4, 3, 2, 2], [2, 4, 2, 4, 1, 2, 3, 1, 1, 2, 2, 1, 3, 1, 3, 4, 3, 1, 3, 1, 1, 1, 1, 4, 3, 4, 1, 2, 3, 4, 2, 4, 1], [2, 2, 1, 2, 3, 2, 3, 1, 2, 1, 1, 3, 3, 1, 4, 4, 2, 4, 2, 4, 4, 3, 2, 2, 3, 2, 2, 3, 2, 1, 3, 4, 1, 1, 2, 4, 1, 2, 1, 1, 4, 4, 3, 4], []]\n"
     ]
    },
    {
     "ename": "ValueError",
     "evalue": "115 is not in list",
     "output_type": "error",
     "traceback": [
      "\u001b[1;31m---------------------------------------------------------------------------\u001b[0m",
      "\u001b[1;31mValueError\u001b[0m                                Traceback (most recent call last)",
      "\u001b[1;32m<ipython-input-310-da834325a457>\u001b[0m in \u001b[0;36m<module>\u001b[1;34m\u001b[0m\n\u001b[1;32m----> 1\u001b[1;33m \u001b[0mc\u001b[0m\u001b[1;33m=\u001b[0m\u001b[0mrecommend\u001b[0m\u001b[1;33m(\u001b[0m\u001b[0mratingDb\u001b[0m\u001b[1;33m,\u001b[0m\u001b[1;36m115\u001b[0m\u001b[1;33m,\u001b[0m\u001b[1;36m20\u001b[0m\u001b[1;33m)\u001b[0m\u001b[1;33m\u001b[0m\u001b[1;33m\u001b[0m\u001b[0m\n\u001b[0m",
      "\u001b[1;32m<ipython-input-306-affd6f85406c>\u001b[0m in \u001b[0;36mrecommend\u001b[1;34m(ratingDb, targetUserId, numDish)\u001b[0m\n\u001b[0;32m     11\u001b[0m                             \u001b[1;32mbreak\u001b[0m\u001b[1;33m\u001b[0m\u001b[1;33m\u001b[0m\u001b[0m\n\u001b[0;32m     12\u001b[0m     \u001b[1;31m# Get the distance\u001b[0m\u001b[1;33m\u001b[0m\u001b[1;33m\u001b[0m\u001b[1;33m\u001b[0m\u001b[0m\n\u001b[1;32m---> 13\u001b[1;33m     \u001b[0muserId\u001b[0m\u001b[1;33m,\u001b[0m \u001b[0mdistanceLst\u001b[0m \u001b[1;33m=\u001b[0m \u001b[0mgetDistance\u001b[0m\u001b[1;33m(\u001b[0m\u001b[0mratingDb\u001b[0m\u001b[1;33m,\u001b[0m \u001b[0mtargetUserId\u001b[0m\u001b[1;33m)\u001b[0m\u001b[1;33m\u001b[0m\u001b[1;33m\u001b[0m\u001b[0m\n\u001b[0m\u001b[0;32m     14\u001b[0m     \u001b[1;31m# Get the ID of the top users\u001b[0m\u001b[1;33m\u001b[0m\u001b[1;33m\u001b[0m\u001b[1;33m\u001b[0m\u001b[0m\n\u001b[0;32m     15\u001b[0m     \u001b[0mtopUserIds\u001b[0m\u001b[1;33m,\u001b[0m \u001b[0msmallestDistance\u001b[0m \u001b[1;33m=\u001b[0m \u001b[0mgetTopUser\u001b[0m\u001b[1;33m(\u001b[0m\u001b[0muserId\u001b[0m\u001b[1;33m,\u001b[0m \u001b[0mdistanceLst\u001b[0m\u001b[1;33m,\u001b[0m \u001b[0mnumDish\u001b[0m\u001b[1;33m)\u001b[0m\u001b[1;33m\u001b[0m\u001b[1;33m\u001b[0m\u001b[0m\n",
      "\u001b[1;32m<ipython-input-308-b484457beb67>\u001b[0m in \u001b[0;36mgetDistance\u001b[1;34m(ratingDb, targetUser)\u001b[0m\n\u001b[0;32m     13\u001b[0m     \u001b[1;32mfor\u001b[0m \u001b[0mi\u001b[0m \u001b[1;32min\u001b[0m \u001b[0mrange\u001b[0m\u001b[1;33m(\u001b[0m\u001b[0mlen\u001b[0m\u001b[1;33m(\u001b[0m\u001b[0muserId\u001b[0m\u001b[1;33m)\u001b[0m\u001b[1;33m)\u001b[0m\u001b[1;33m:\u001b[0m\u001b[1;33m\u001b[0m\u001b[1;33m\u001b[0m\u001b[0m\n\u001b[0;32m     14\u001b[0m         \u001b[0mdistance\u001b[0m \u001b[1;33m=\u001b[0m \u001b[1;36m0\u001b[0m\u001b[1;33m\u001b[0m\u001b[1;33m\u001b[0m\u001b[0m\n\u001b[1;32m---> 15\u001b[1;33m         \u001b[1;32mif\u001b[0m \u001b[0mi\u001b[0m \u001b[1;33m!=\u001b[0m \u001b[0muserId\u001b[0m\u001b[1;33m.\u001b[0m\u001b[0mindex\u001b[0m\u001b[1;33m(\u001b[0m\u001b[0mtargetUser\u001b[0m\u001b[1;33m)\u001b[0m\u001b[1;33m:\u001b[0m\u001b[1;33m\u001b[0m\u001b[1;33m\u001b[0m\u001b[0m\n\u001b[0m\u001b[0;32m     16\u001b[0m             \u001b[1;32mfor\u001b[0m \u001b[0mj\u001b[0m \u001b[1;32min\u001b[0m \u001b[0mrange\u001b[0m\u001b[1;33m(\u001b[0m\u001b[0mlen\u001b[0m\u001b[1;33m(\u001b[0m\u001b[0mdishId\u001b[0m\u001b[1;33m[\u001b[0m\u001b[0muserId\u001b[0m\u001b[1;33m.\u001b[0m\u001b[0mindex\u001b[0m\u001b[1;33m(\u001b[0m\u001b[0mtargetUser\u001b[0m\u001b[1;33m)\u001b[0m\u001b[1;33m]\u001b[0m\u001b[1;33m)\u001b[0m\u001b[1;33m)\u001b[0m\u001b[1;33m:\u001b[0m\u001b[1;33m\u001b[0m\u001b[1;33m\u001b[0m\u001b[0m\n\u001b[0;32m     17\u001b[0m                 \u001b[1;32mif\u001b[0m \u001b[0mdishId\u001b[0m\u001b[1;33m[\u001b[0m\u001b[0muserId\u001b[0m\u001b[1;33m.\u001b[0m\u001b[0mindex\u001b[0m\u001b[1;33m(\u001b[0m\u001b[0mtargetUser\u001b[0m\u001b[1;33m)\u001b[0m\u001b[1;33m]\u001b[0m\u001b[1;33m[\u001b[0m\u001b[0mj\u001b[0m\u001b[1;33m]\u001b[0m \u001b[1;32min\u001b[0m \u001b[0mdishId\u001b[0m\u001b[1;33m[\u001b[0m\u001b[0mi\u001b[0m\u001b[1;33m]\u001b[0m\u001b[1;33m:\u001b[0m\u001b[1;33m\u001b[0m\u001b[1;33m\u001b[0m\u001b[0m\n",
      "\u001b[1;31mValueError\u001b[0m: 115 is not in list"
     ]
    }
   ],
   "source": [
    "c=recommend(ratingDb,115,20)"
   ]
  },
  {
   "cell_type": "code",
   "execution_count": 311,
   "metadata": {},
   "outputs": [
    {
     "data": {
      "text/plain": [
       "[2937,\n",
       " 1136,\n",
       " 7714,\n",
       " 4059,\n",
       " 3328,\n",
       " 4658,\n",
       " 3010,\n",
       " 9723,\n",
       " 7244,\n",
       " 332,\n",
       " 10566,\n",
       " 8638,\n",
       " 572,\n",
       " 6885,\n",
       " 7040,\n",
       " 9996,\n",
       " 7714,\n",
       " 2768,\n",
       " 9271,\n",
       " 9025]"
      ]
     },
     "execution_count": 311,
     "metadata": {},
     "output_type": "execute_result"
    }
   ],
   "source": [
    "c"
   ]
  },
  {
   "cell_type": "code",
   "execution_count": 29,
   "metadata": {},
   "outputs": [
    {
     "name": "stdout",
     "output_type": "stream",
     "text": [
      "2163    Cantaloupe Fruit Salad\n",
      "Name: Name, dtype: object\n",
      "1207    Shrimp Fra Diavolo\n",
      "Name: Name, dtype: object\n",
      "2909    Tomato Beef\n",
      "Name: Name, dtype: object\n",
      "1513    Helen Gougeon's Pea Soup\n",
      "Name: Name, dtype: object\n",
      "2337    Buttermilk Pecan Pralines (Cook 'Em Horns)\n",
      "Name: Name, dtype: object\n",
      "3125    Deviled Eggs\n",
      "Name: Name, dtype: object\n",
      "2002    Lasagna Rolls\n",
      "Name: Name, dtype: object\n",
      "3363    Black Bean and Mandarin Orange Salad\n",
      "Name: Name, dtype: object\n",
      "1966    Fruit Tarts\n",
      "Name: Name, dtype: object\n",
      "1392    Bread and Butter Pudding\n",
      "Name: Name, dtype: object\n",
      "146    Thai Beef Salad\n",
      "Name: Name, dtype: object\n",
      "917    Cape Cod Cranberry Velvet Pie\n",
      "Name: Name, dtype: object\n",
      "841    Lemony Salmon Patties\n",
      "Name: Name, dtype: object\n",
      "650    Cheese and Meatball Soup\n",
      "Name: Name, dtype: object\n",
      "3178    Americano Cocktail\n",
      "Name: Name, dtype: object\n",
      "1327    Peanut Butter Pudding\n",
      "Name: Name, dtype: object\n",
      "3709    Banana Fritters\n",
      "Name: Name, dtype: object\n",
      "586    Low-Fat Apple Cake\n",
      "Name: Name, dtype: object\n",
      "1572    Shrimp Stir-Fry II\n",
      "Name: Name, dtype: object\n",
      "2570    Hunters Polish Sausage Sauerkraut Stew\n",
      "Name: Name, dtype: object\n"
     ]
    }
   ],
   "source": [
    "for i in range(len(c)):\n",
    "    print(data.loc[data['RecipeId'] == c[i], 'Name'])"
   ]
  },
  {
   "cell_type": "code",
   "execution_count": 58,
   "metadata": {},
   "outputs": [],
   "source": [
    "c=[8517, 3233, 2575, 7443, 297, 9695, 2718, 7742, 8269, 3225, 3912, 10044, \n",
    "5344, 8538, 5071, 2892, 7414, 5223, 5234, 10320]"
   ]
  },
  {
   "cell_type": "code",
   "execution_count": 59,
   "metadata": {},
   "outputs": [],
   "source": [
    "c=tuple(c)"
   ]
  },
  {
   "cell_type": "code",
   "execution_count": 60,
   "metadata": {},
   "outputs": [],
   "source": [
    "selector=\"SELECT * from dataset WHERE RecipeId IN\",c"
   ]
  },
  {
   "cell_type": "code",
   "execution_count": 61,
   "metadata": {},
   "outputs": [
    {
     "data": {
      "text/plain": [
       "('SELECT * from dataset WHERE RecipeId IN',\n",
       " (8517,\n",
       "  3233,\n",
       "  2575,\n",
       "  7443,\n",
       "  297,\n",
       "  9695,\n",
       "  2718,\n",
       "  7742,\n",
       "  8269,\n",
       "  3225,\n",
       "  3912,\n",
       "  10044,\n",
       "  5344,\n",
       "  8538,\n",
       "  5071,\n",
       "  2892,\n",
       "  7414,\n",
       "  5223,\n",
       "  5234,\n",
       "  10320))"
      ]
     },
     "execution_count": 61,
     "metadata": {},
     "output_type": "execute_result"
    }
   ],
   "source": [
    "selector"
   ]
  },
  {
   "cell_type": "code",
   "execution_count": 47,
   "metadata": {},
   "outputs": [],
   "source": [
    "c"
   ]
  },
  {
   "cell_type": "code",
   "execution_count": 38,
   "metadata": {},
   "outputs": [
    {
     "ename": "TypeError",
     "evalue": "sequence item 0: expected str instance, int found",
     "output_type": "error",
     "traceback": [
      "\u001b[1;31m---------------------------------------------------------------------------\u001b[0m",
      "\u001b[1;31mTypeError\u001b[0m                                 Traceback (most recent call last)",
      "\u001b[1;32m<ipython-input-38-9af082b87b61>\u001b[0m in \u001b[0;36m<module>\u001b[1;34m\u001b[0m\n\u001b[1;32m----> 1\u001b[1;33m \u001b[0mc\u001b[0m\u001b[1;33m=\u001b[0m\u001b[1;34m\";\"\u001b[0m\u001b[1;33m.\u001b[0m\u001b[0mjoin\u001b[0m\u001b[1;33m(\u001b[0m\u001b[0mc\u001b[0m\u001b[1;33m)\u001b[0m\u001b[1;33m\u001b[0m\u001b[1;33m\u001b[0m\u001b[0m\n\u001b[0m",
      "\u001b[1;31mTypeError\u001b[0m: sequence item 0: expected str instance, int found"
     ]
    }
   ],
   "source": [
    "c=\";\".join(c)"
   ]
  },
  {
   "cell_type": "code",
   "execution_count": 63,
   "metadata": {},
   "outputs": [],
   "source": [
    "numbing=(\"%s,\"*4)[:-1]"
   ]
  },
  {
   "cell_type": "code",
   "execution_count": 64,
   "metadata": {},
   "outputs": [
    {
     "data": {
      "text/plain": [
       "'%s,%s,%s,%s'"
      ]
     },
     "execution_count": 64,
     "metadata": {},
     "output_type": "execute_result"
    }
   ],
   "source": [
    "numbing"
   ]
  },
  {
   "cell_type": "code",
   "execution_count": 96,
   "metadata": {},
   "outputs": [
    {
     "name": "stdout",
     "output_type": "stream",
     "text": [
      "SELECT * from dataset WHERE Name LIKE \"%American%\"\n"
     ]
    }
   ],
   "source": [
    "dish=\"American\"\n",
    "SELECTOR='SELECT * from dataset WHERE Name LIKE \"%'+dish+'%\"'\n",
    "print(SELECTOR)\n",
    "dishl=[dish]\n",
    "new_tup=tuple(dishl)\n",
    "print\n",
    "ingredients=('Frozen', 'Chicken', 'Beverages', 'Soy/Tofu')\n"
   ]
  },
  {
   "cell_type": "code",
   "execution_count": 93,
   "metadata": {},
   "outputs": [],
   "source": [
    "new_tup_n=new_tup+ingredients"
   ]
  },
  {
   "cell_type": "code",
   "execution_count": 94,
   "metadata": {},
   "outputs": [
    {
     "data": {
      "text/plain": [
       "('American', 'Frozen', 'Chicken', 'Beverages', 'Soy/Tofu')"
      ]
     },
     "execution_count": 94,
     "metadata": {},
     "output_type": "execute_result"
    }
   ],
   "source": [
    "new_tup_n"
   ]
  },
  {
   "cell_type": "code",
   "execution_count": null,
   "metadata": {},
   "outputs": [],
   "source": []
  },
  {
   "cell_type": "code",
   "execution_count": null,
   "metadata": {},
   "outputs": [],
   "source": []
  },
  {
   "cell_type": "code",
   "execution_count": 29,
   "metadata": {},
   "outputs": [],
   "source": [
    "c=\"(\"+c+\")\""
   ]
  },
  {
   "cell_type": "code",
   "execution_count": 30,
   "metadata": {},
   "outputs": [
    {
     "data": {
      "text/plain": [
       "'(8517;3233;2575;7443;297;9695;2718;7742;8269;3225;3912;10044;5344;8538;5071;2892;7414;5223;5234;10320)'"
      ]
     },
     "execution_count": 30,
     "metadata": {},
     "output_type": "execute_result"
    }
   ],
   "source": [
    "c"
   ]
  },
  {
   "cell_type": "code",
   "execution_count": 34,
   "metadata": {},
   "outputs": [],
   "source": [
    "f=[\"1\",\"2\"]"
   ]
  },
  {
   "cell_type": "code",
   "execution_count": 35,
   "metadata": {},
   "outputs": [
    {
     "ename": "TypeError",
     "evalue": "int() argument must be a string, a bytes-like object or a number, not 'list'",
     "output_type": "error",
     "traceback": [
      "\u001b[1;31m---------------------------------------------------------------------------\u001b[0m",
      "\u001b[1;31mTypeError\u001b[0m                                 Traceback (most recent call last)",
      "\u001b[1;32m<ipython-input-35-15c82ade717a>\u001b[0m in \u001b[0;36m<module>\u001b[1;34m\u001b[0m\n\u001b[1;32m----> 1\u001b[1;33m \u001b[0mint\u001b[0m\u001b[1;33m(\u001b[0m\u001b[0mf\u001b[0m\u001b[1;33m)\u001b[0m\u001b[1;33m\u001b[0m\u001b[1;33m\u001b[0m\u001b[0m\n\u001b[0m",
      "\u001b[1;31mTypeError\u001b[0m: int() argument must be a string, a bytes-like object or a number, not 'list'"
     ]
    }
   ],
   "source": [
    "int(f)"
   ]
  },
  {
   "cell_type": "code",
   "execution_count": null,
   "metadata": {},
   "outputs": [],
   "source": []
  },
  {
   "cell_type": "code",
   "execution_count": null,
   "metadata": {},
   "outputs": [],
   "source": []
  },
  {
   "cell_type": "code",
   "execution_count": null,
   "metadata": {},
   "outputs": [],
   "source": []
  },
  {
   "cell_type": "code",
   "execution_count": null,
   "metadata": {},
   "outputs": [],
   "source": []
  },
  {
   "cell_type": "code",
   "execution_count": 7,
   "metadata": {},
   "outputs": [],
   "source": [
    "listcuisine=list(np.unique(data.cuisine))"
   ]
  },
  {
   "cell_type": "code",
   "execution_count": 8,
   "metadata": {},
   "outputs": [],
   "source": [
    "#for i in range(len(listcuisine)):\n",
    "    #print(data.cuisine[data[\"cuisine\"]==listcuisine[i]])"
   ]
  },
  {
   "cell_type": "code",
   "execution_count": 9,
   "metadata": {},
   "outputs": [],
   "source": [
    "#list(data.dish_name[data[\"cuisine\"]==\"American\"])"
   ]
  },
  {
   "cell_type": "code",
   "execution_count": 10,
   "metadata": {},
   "outputs": [],
   "source": [
    "#for each user \n",
    "#select 5-8 cuisines\n",
    "#select 5-18 dishes for each cuisine\n",
    "#rate each dish 1-5"
   ]
  },
  {
   "cell_type": "code",
   "execution_count": 11,
   "metadata": {},
   "outputs": [
    {
     "data": {
      "text/plain": [
       "181"
      ]
     },
     "execution_count": 11,
     "metadata": {},
     "output_type": "execute_result"
    }
   ],
   "source": [
    "save_items_from_cuisine=list(data.New_ID[data[\"cuisine\"]==\"American\"])\n",
    "likesdish=np.random.choice(save_items_from_cuisine)\n",
    "likesdish"
   ]
  },
  {
   "cell_type": "code",
   "execution_count": 12,
   "metadata": {},
   "outputs": [
    {
     "name": "stdout",
     "output_type": "stream",
     "text": [
      "done 0\n",
      "done 1\n",
      "done 2\n",
      "done 3\n",
      "done 4\n",
      "done 5\n",
      "done 6\n",
      "done 7\n",
      "done 8\n",
      "done 9\n",
      "done 10\n",
      "done 11\n",
      "done 12\n",
      "done 13\n",
      "done 14\n",
      "done 15\n",
      "done 16\n",
      "done 17\n",
      "done 18\n",
      "done 19\n"
     ]
    }
   ],
   "source": [
    "users = []\n",
    "for i in range(20):\n",
    "    users.append(i)\n",
    "listcuisine=list(np.unique(data.cuisine))\n",
    "rating_db=[]\n",
    "for i in range(len(users)):\n",
    "    cuisine_list=[]\n",
    "    dish_list=[]\n",
    "    how_many_cuisine=np.random.randint(5,12)\n",
    "    num=0\n",
    "    while num <(how_many_cuisine):\n",
    "        select_cuisine=np.random.randint(0,24)\n",
    "        if select_cuisine not in cuisine_list:\n",
    "            cuisine_list.append(select_cuisine)\n",
    "            num=num+1\n",
    "    for k in range(len(cuisine_list)):\n",
    "        save_items_from_cuisine=list(data.New_ID[data[\"cuisine\"]==listcuisine[cuisine_list[k]]])\n",
    "        how_many_dishes=np.random.randint(17,len(save_items_from_cuisine))\n",
    "        save_dish_id=[]\n",
    "        ratingperuser=[]\n",
    "        for num in range(how_many_dishes):\n",
    "            likesdish=np.random.choice(save_items_from_cuisine)\n",
    "            if likesdish not in save_dish_id:\n",
    "                save_dish_id.append(likesdish)\n",
    "                r=np.random.randint(1,5)\n",
    "                rating_db.append([i,likesdish,r])\n",
    "    print(\"done\",i)"
   ]
  },
  {
   "cell_type": "code",
   "execution_count": 13,
   "metadata": {},
   "outputs": [],
   "source": [
    "rating_db=pd.DataFrame(rating_db, columns=['id',\"dish_id\" ,'rating'])"
   ]
  },
  {
   "cell_type": "code",
   "execution_count": 14,
   "metadata": {},
   "outputs": [
    {
     "data": {
      "text/plain": [
       "703"
      ]
     },
     "execution_count": 14,
     "metadata": {},
     "output_type": "execute_result"
    }
   ],
   "source": [
    "len(rating_db.id[rating_db.id==0])"
   ]
  },
  {
   "cell_type": "code",
   "execution_count": 15,
   "metadata": {},
   "outputs": [
    {
     "data": {
      "text/html": [
       "<div>\n",
       "<style scoped>\n",
       "    .dataframe tbody tr th:only-of-type {\n",
       "        vertical-align: middle;\n",
       "    }\n",
       "\n",
       "    .dataframe tbody tr th {\n",
       "        vertical-align: top;\n",
       "    }\n",
       "\n",
       "    .dataframe thead th {\n",
       "        text-align: right;\n",
       "    }\n",
       "</style>\n",
       "<table border=\"1\" class=\"dataframe\">\n",
       "  <thead>\n",
       "    <tr style=\"text-align: right;\">\n",
       "      <th></th>\n",
       "      <th>id</th>\n",
       "      <th>dish_id</th>\n",
       "      <th>rating</th>\n",
       "    </tr>\n",
       "  </thead>\n",
       "  <tbody>\n",
       "    <tr>\n",
       "      <th>0</th>\n",
       "      <td>0</td>\n",
       "      <td>4917</td>\n",
       "      <td>2</td>\n",
       "    </tr>\n",
       "    <tr>\n",
       "      <th>1</th>\n",
       "      <td>0</td>\n",
       "      <td>4882</td>\n",
       "      <td>4</td>\n",
       "    </tr>\n",
       "    <tr>\n",
       "      <th>2</th>\n",
       "      <td>0</td>\n",
       "      <td>4976</td>\n",
       "      <td>4</td>\n",
       "    </tr>\n",
       "    <tr>\n",
       "      <th>3</th>\n",
       "      <td>0</td>\n",
       "      <td>4909</td>\n",
       "      <td>3</td>\n",
       "    </tr>\n",
       "    <tr>\n",
       "      <th>4</th>\n",
       "      <td>0</td>\n",
       "      <td>4829</td>\n",
       "      <td>4</td>\n",
       "    </tr>\n",
       "    <tr>\n",
       "      <th>...</th>\n",
       "      <td>...</td>\n",
       "      <td>...</td>\n",
       "      <td>...</td>\n",
       "    </tr>\n",
       "    <tr>\n",
       "      <th>15707</th>\n",
       "      <td>19</td>\n",
       "      <td>4806</td>\n",
       "      <td>2</td>\n",
       "    </tr>\n",
       "    <tr>\n",
       "      <th>15708</th>\n",
       "      <td>19</td>\n",
       "      <td>4637</td>\n",
       "      <td>2</td>\n",
       "    </tr>\n",
       "    <tr>\n",
       "      <th>15709</th>\n",
       "      <td>19</td>\n",
       "      <td>4442</td>\n",
       "      <td>4</td>\n",
       "    </tr>\n",
       "    <tr>\n",
       "      <th>15710</th>\n",
       "      <td>19</td>\n",
       "      <td>4804</td>\n",
       "      <td>1</td>\n",
       "    </tr>\n",
       "    <tr>\n",
       "      <th>15711</th>\n",
       "      <td>19</td>\n",
       "      <td>4749</td>\n",
       "      <td>1</td>\n",
       "    </tr>\n",
       "  </tbody>\n",
       "</table>\n",
       "<p>15712 rows × 3 columns</p>\n",
       "</div>"
      ],
      "text/plain": [
       "       id  dish_id  rating\n",
       "0       0     4917       2\n",
       "1       0     4882       4\n",
       "2       0     4976       4\n",
       "3       0     4909       3\n",
       "4       0     4829       4\n",
       "...    ..      ...     ...\n",
       "15707  19     4806       2\n",
       "15708  19     4637       2\n",
       "15709  19     4442       4\n",
       "15710  19     4804       1\n",
       "15711  19     4749       1\n",
       "\n",
       "[15712 rows x 3 columns]"
      ]
     },
     "execution_count": 15,
     "metadata": {},
     "output_type": "execute_result"
    }
   ],
   "source": [
    "rating_db"
   ]
  },
  {
   "cell_type": "code",
   "execution_count": 16,
   "metadata": {},
   "outputs": [],
   "source": [
    "default_user=0"
   ]
  },
  {
   "cell_type": "code",
   "execution_count": 17,
   "metadata": {},
   "outputs": [],
   "source": [
    "dish_id=[]\n",
    "rating=[]\n",
    "for i in range(max(rating_db.id)+1):\n",
    "    dish_id.append(list(rating_db.dish_id[rating_db[\"id\"]==i]))\n",
    "    rating.append(list(rating_db.rating[rating_db[\"id\"]==i]))"
   ]
  },
  {
   "cell_type": "code",
   "execution_count": 18,
   "metadata": {},
   "outputs": [],
   "source": [
    "m=[-1 for i in range(len(users))]\n",
    "for i in range(len(users)):\n",
    "    absval=0\n",
    "    if i != default_user:\n",
    "        sim=0\n",
    "        for j in range(len(dish_id[default_user])):\n",
    "                if dish_id[default_user][j] in dish_id[i]:\n",
    "                    userdishindex = j\n",
    "                    botdishindex=dish_id[i].index(dish_id[default_user][j])\n",
    "                    absval+=abs(rating[default_user][userdishindex]-rating[i][botdishindex])\n",
    "        m[i]=absval"
   ]
  },
  {
   "cell_type": "code",
   "execution_count": 19,
   "metadata": {},
   "outputs": [
    {
     "data": {
      "text/plain": [
       "[-1,\n",
       " 103,\n",
       " 205,\n",
       " 31,\n",
       " 212,\n",
       " 230,\n",
       " 143,\n",
       " 92,\n",
       " 154,\n",
       " 133,\n",
       " 201,\n",
       " 145,\n",
       " 124,\n",
       " 126,\n",
       " 102,\n",
       " 107,\n",
       " 154,\n",
       " 194,\n",
       " 174,\n",
       " 81]"
      ]
     },
     "execution_count": 19,
     "metadata": {},
     "output_type": "execute_result"
    }
   ],
   "source": [
    "m"
   ]
  },
  {
   "cell_type": "code",
   "execution_count": 20,
   "metadata": {},
   "outputs": [
    {
     "data": {
      "text/plain": [
       "['American',\n",
       " 'Asian',\n",
       " 'Barbecue',\n",
       " 'Cajun & Creole',\n",
       " 'Chinese',\n",
       " 'Cuban',\n",
       " 'English',\n",
       " 'French',\n",
       " 'German',\n",
       " 'Greek',\n",
       " 'Hawaiian',\n",
       " 'Hungarian',\n",
       " 'Indian',\n",
       " 'Irish',\n",
       " 'Italian',\n",
       " 'Japanese',\n",
       " 'Mediterranean',\n",
       " 'Mexican',\n",
       " 'Moroccan',\n",
       " 'Portuguese',\n",
       " 'Southern & Soul Food',\n",
       " 'Southwestern',\n",
       " 'Spanish',\n",
       " 'Swedish',\n",
       " 'Thai']"
      ]
     },
     "execution_count": 20,
     "metadata": {},
     "output_type": "execute_result"
    }
   ],
   "source": [
    "listcuisine"
   ]
  },
  {
   "cell_type": "code",
   "execution_count": 21,
   "metadata": {},
   "outputs": [],
   "source": [
    "cur_cuisine=list(data.cuisine[data.New_ID==dish_id[0][0]])\n",
    "cur_index=listcuisine.index(cur_cuisine[0])"
   ]
  },
  {
   "cell_type": "code",
   "execution_count": 31,
   "metadata": {},
   "outputs": [],
   "source": [
    "cuisine_percentage=[[0 for _ in range(len(listcuisine))] for _ in range(len(users))]\n",
    "for i in range(len(dish_id)):\n",
    "    for j in range(len(dish_id[i])):\n",
    "        cur_cuisine=list(data.cuisine[data.New_ID==dish_id[i][j]])[0]\n",
    "        cur_index=listcuisine.index(cur_cuisine)\n",
    "        cuisine_percentage[i][cur_index]+=1\n",
    "    cuisine_percentage[i]=[(cuisine_percentage[i][j]*100)/sum(cuisine_percentage[i]) for j in range(len(cuisine_percentage[i]))]"
   ]
  },
  {
   "cell_type": "code",
   "execution_count": 34,
   "metadata": {},
   "outputs": [
    {
     "data": {
      "text/plain": [
       "[[0.0,\n",
       "  0.0,\n",
       "  0.0,\n",
       "  0.0,\n",
       "  0.0,\n",
       "  18.349928876244665,\n",
       "  0.0,\n",
       "  0.0,\n",
       "  0.0,\n",
       "  16.500711237553343,\n",
       "  0.0,\n",
       "  14.935988620199147,\n",
       "  0.0,\n",
       "  0.0,\n",
       "  0.0,\n",
       "  0.0,\n",
       "  11.66429587482219,\n",
       "  0.0,\n",
       "  15.93172119487909,\n",
       "  0.0,\n",
       "  16.500711237553343,\n",
       "  6.116642958748222,\n",
       "  0.0,\n",
       "  0.0,\n",
       "  0.0],\n",
       " [0.0,\n",
       "  0.0,\n",
       "  0.0,\n",
       "  35.064935064935064,\n",
       "  0.0,\n",
       "  0.0,\n",
       "  0.0,\n",
       "  0.0,\n",
       "  0.0,\n",
       "  13.506493506493506,\n",
       "  0.0,\n",
       "  0.0,\n",
       "  0.0,\n",
       "  0.0,\n",
       "  0.0,\n",
       "  0.0,\n",
       "  0.0,\n",
       "  0.0,\n",
       "  8.571428571428571,\n",
       "  0.0,\n",
       "  26.493506493506494,\n",
       "  0.0,\n",
       "  0.0,\n",
       "  16.363636363636363,\n",
       "  0.0],\n",
       " [19.19406150583245,\n",
       "  0.0,\n",
       "  0.0,\n",
       "  0.0,\n",
       "  0.0,\n",
       "  0.0,\n",
       "  1.4846235418875928,\n",
       "  13.255567338282079,\n",
       "  0.0,\n",
       "  0.0,\n",
       "  0.0,\n",
       "  16.755037115588546,\n",
       "  0.0,\n",
       "  0.0,\n",
       "  11.983032873807,\n",
       "  14.528101802757158,\n",
       "  7.953340402969247,\n",
       "  0.0,\n",
       "  0.0,\n",
       "  0.0,\n",
       "  14.846235418875928,\n",
       "  0.0,\n",
       "  0.0,\n",
       "  0.0,\n",
       "  0.0],\n",
       " [0.0,\n",
       "  0.0,\n",
       "  6.752411575562701,\n",
       "  0.0,\n",
       "  8.19935691318328,\n",
       "  0.0,\n",
       "  0.0,\n",
       "  14.95176848874598,\n",
       "  0.0,\n",
       "  0.0,\n",
       "  8.520900321543408,\n",
       "  0.0,\n",
       "  0.0,\n",
       "  0.0,\n",
       "  0.0,\n",
       "  25.723472668810288,\n",
       "  0.0,\n",
       "  19.131832797427652,\n",
       "  0.0,\n",
       "  0.0,\n",
       "  0.0,\n",
       "  9.646302250803858,\n",
       "  7.07395498392283,\n",
       "  0.0,\n",
       "  0.0],\n",
       " [0.0,\n",
       "  0.0,\n",
       "  7.615062761506276,\n",
       "  0.0,\n",
       "  0.0,\n",
       "  12.301255230125523,\n",
       "  0.9205020920502092,\n",
       "  0.0,\n",
       "  6.2761506276150625,\n",
       "  0.0,\n",
       "  0.0,\n",
       "  12.217573221757322,\n",
       "  0.0,\n",
       "  9.205020920502092,\n",
       "  21.08786610878661,\n",
       "  0.0,\n",
       "  0.0,\n",
       "  14.811715481171548,\n",
       "  6.192468619246862,\n",
       "  9.372384937238493,\n",
       "  0.0,\n",
       "  0.0,\n",
       "  0.0,\n",
       "  0.0,\n",
       "  0.0],\n",
       " [0.0,\n",
       "  0.0,\n",
       "  0.0,\n",
       "  15.037593984962406,\n",
       "  0.0,\n",
       "  0.0,\n",
       "  0.0,\n",
       "  0.0,\n",
       "  0.0,\n",
       "  0.0,\n",
       "  0.0,\n",
       "  19.674185463659146,\n",
       "  0.0,\n",
       "  10.651629072681704,\n",
       "  0.0,\n",
       "  18.170426065162907,\n",
       "  8.145363408521304,\n",
       "  0.0,\n",
       "  12.155388471177945,\n",
       "  0.0,\n",
       "  16.165413533834588,\n",
       "  0.0,\n",
       "  0.0,\n",
       "  0.0,\n",
       "  0.0],\n",
       " [0.0,\n",
       "  0.0,\n",
       "  0.0,\n",
       "  0.0,\n",
       "  13.307984790874524,\n",
       "  0.0,\n",
       "  0.0,\n",
       "  0.0,\n",
       "  0.0,\n",
       "  18.88466413181242,\n",
       "  0.0,\n",
       "  0.0,\n",
       "  0.0,\n",
       "  0.0,\n",
       "  22.813688212927758,\n",
       "  8.491761723700888,\n",
       "  0.0,\n",
       "  3.041825095057034,\n",
       "  0.0,\n",
       "  7.731305449936628,\n",
       "  13.434727503168569,\n",
       "  8.745247148288973,\n",
       "  0.0,\n",
       "  3.5487959442332064,\n",
       "  0.0],\n",
       " [0.0,\n",
       "  0.0,\n",
       "  3.4812880765883376,\n",
       "  18.624891209747606,\n",
       "  4.438642297650131,\n",
       "  0.0,\n",
       "  0.8703220191470844,\n",
       "  9.660574412532638,\n",
       "  0.0,\n",
       "  0.0,\n",
       "  0.0,\n",
       "  15.317667536988687,\n",
       "  0.0,\n",
       "  2.8720626631853787,\n",
       "  20.539599651871193,\n",
       "  0.0,\n",
       "  0.0,\n",
       "  8.181026979982594,\n",
       "  0.0,\n",
       "  3.0461270670147953,\n",
       "  0.0,\n",
       "  0.0,\n",
       "  12.967798085291557,\n",
       "  0.0,\n",
       "  0.0],\n",
       " [0.0,\n",
       "  0.0,\n",
       "  0.0,\n",
       "  0.0,\n",
       "  0.0,\n",
       "  26.94736842105263,\n",
       "  0.0,\n",
       "  25.894736842105264,\n",
       "  0.0,\n",
       "  0.0,\n",
       "  0.0,\n",
       "  19.36842105263158,\n",
       "  0.0,\n",
       "  0.0,\n",
       "  0.0,\n",
       "  0.0,\n",
       "  0.0,\n",
       "  0.0,\n",
       "  0.0,\n",
       "  21.263157894736842,\n",
       "  0.0,\n",
       "  6.526315789473684,\n",
       "  0.0,\n",
       "  0.0,\n",
       "  0.0],\n",
       " [8.937437934458789,\n",
       "  30.18867924528302,\n",
       "  0.0,\n",
       "  0.0,\n",
       "  8.540218470705064,\n",
       "  6.454816285998014,\n",
       "  0.0,\n",
       "  0.0,\n",
       "  0.0,\n",
       "  18.073485600794438,\n",
       "  6.653426017874876,\n",
       "  0.0,\n",
       "  0.0,\n",
       "  8.440913604766633,\n",
       "  0.0,\n",
       "  12.711022840119165,\n",
       "  0.0,\n",
       "  0.0,\n",
       "  0.0,\n",
       "  0.0,\n",
       "  0.0,\n",
       "  0.0,\n",
       "  0.0,\n",
       "  0.0,\n",
       "  0.0],\n",
       " [0.0,\n",
       "  20.790216368767638,\n",
       "  0.0,\n",
       "  0.0,\n",
       "  0.0,\n",
       "  10.912511759172155,\n",
       "  1.0348071495766697,\n",
       "  0.0,\n",
       "  0.0,\n",
       "  23.424270931326436,\n",
       "  0.0,\n",
       "  13.076199435559737,\n",
       "  0.0,\n",
       "  2.634054562558796,\n",
       "  16.650987770460958,\n",
       "  0.0,\n",
       "  0.0,\n",
       "  11.47695202257761,\n",
       "  0.0,\n",
       "  0.0,\n",
       "  0.0,\n",
       "  0.0,\n",
       "  0.0,\n",
       "  0.0,\n",
       "  0.0],\n",
       " [0.0,\n",
       "  0.0,\n",
       "  2.059496567505721,\n",
       "  0.0,\n",
       "  0.0,\n",
       "  0.0,\n",
       "  0.8009153318077803,\n",
       "  0.0,\n",
       "  0.0,\n",
       "  26.659038901601832,\n",
       "  7.551487414187643,\n",
       "  7.551487414187643,\n",
       "  21.39588100686499,\n",
       "  4.576659038901602,\n",
       "  0.0,\n",
       "  0.0,\n",
       "  0.0,\n",
       "  0.0,\n",
       "  0.0,\n",
       "  12.471395881006865,\n",
       "  6.064073226544623,\n",
       "  0.0,\n",
       "  10.869565217391305,\n",
       "  0.0,\n",
       "  0.0],\n",
       " [0.0,\n",
       "  0.0,\n",
       "  17.8125,\n",
       "  22.5,\n",
       "  10.625,\n",
       "  0.0,\n",
       "  0.0,\n",
       "  0.0,\n",
       "  0.0,\n",
       "  24.6875,\n",
       "  0.0,\n",
       "  0.0,\n",
       "  0.0,\n",
       "  0.0,\n",
       "  0.0,\n",
       "  0.0,\n",
       "  0.0,\n",
       "  8.4375,\n",
       "  0.0,\n",
       "  0.0,\n",
       "  12.8125,\n",
       "  3.125,\n",
       "  0.0,\n",
       "  0.0,\n",
       "  0.0],\n",
       " [29.504504504504503,\n",
       "  0.0,\n",
       "  0.0,\n",
       "  0.0,\n",
       "  0.0,\n",
       "  0.0,\n",
       "  2.7027027027027026,\n",
       "  0.0,\n",
       "  0.0,\n",
       "  50.67567567567568,\n",
       "  0.0,\n",
       "  0.0,\n",
       "  0.0,\n",
       "  0.0,\n",
       "  0.0,\n",
       "  0.0,\n",
       "  8.558558558558559,\n",
       "  0.0,\n",
       "  0.0,\n",
       "  0.0,\n",
       "  8.558558558558559,\n",
       "  0.0,\n",
       "  0.0,\n",
       "  0.0,\n",
       "  0.0],\n",
       " [12.753623188405797,\n",
       "  0.0,\n",
       "  0.0,\n",
       "  0.0,\n",
       "  4.202898550724638,\n",
       "  0.0,\n",
       "  1.4492753623188406,\n",
       "  0.0,\n",
       "  0.0,\n",
       "  0.0,\n",
       "  5.6521739130434785,\n",
       "  0.0,\n",
       "  0.0,\n",
       "  0.0,\n",
       "  0.0,\n",
       "  38.405797101449274,\n",
       "  14.202898550724637,\n",
       "  0.0,\n",
       "  2.898550724637681,\n",
       "  0.0,\n",
       "  0.0,\n",
       "  9.27536231884058,\n",
       "  11.159420289855072,\n",
       "  0.0,\n",
       "  0.0],\n",
       " [0.0,\n",
       "  27.566539923954373,\n",
       "  19.771863117870723,\n",
       "  0.0,\n",
       "  0.0,\n",
       "  0.0,\n",
       "  0.0,\n",
       "  16.34980988593156,\n",
       "  0.0,\n",
       "  0.0,\n",
       "  0.0,\n",
       "  0.0,\n",
       "  0.0,\n",
       "  0.0,\n",
       "  0.0,\n",
       "  0.0,\n",
       "  12.547528517110266,\n",
       "  0.0,\n",
       "  14.828897338403042,\n",
       "  0.0,\n",
       "  8.935361216730039,\n",
       "  0.0,\n",
       "  0.0,\n",
       "  0.0,\n",
       "  0.0],\n",
       " [34.988179669030735,\n",
       "  0.0,\n",
       "  0.0,\n",
       "  0.0,\n",
       "  0.0,\n",
       "  0.0,\n",
       "  0.0,\n",
       "  13.947990543735225,\n",
       "  0.0,\n",
       "  0.0,\n",
       "  7.092198581560283,\n",
       "  0.0,\n",
       "  0.0,\n",
       "  0.0,\n",
       "  0.0,\n",
       "  6.501182033096927,\n",
       "  6.028368794326241,\n",
       "  0.0,\n",
       "  9.456264775413711,\n",
       "  8.865248226950355,\n",
       "  13.120567375886525,\n",
       "  0.0,\n",
       "  0.0,\n",
       "  0.0,\n",
       "  0.0],\n",
       " [0.0,\n",
       "  0.0,\n",
       "  0.0,\n",
       "  0.0,\n",
       "  0.0,\n",
       "  21.775544388609717,\n",
       "  0.0,\n",
       "  0.0,\n",
       "  0.0,\n",
       "  39.36348408710218,\n",
       "  0.0,\n",
       "  0.0,\n",
       "  0.0,\n",
       "  0.0,\n",
       "  0.0,\n",
       "  0.0,\n",
       "  0.0,\n",
       "  24.12060301507538,\n",
       "  0.0,\n",
       "  0.0,\n",
       "  0.0,\n",
       "  7.5376884422110555,\n",
       "  7.202680067001675,\n",
       "  0.0,\n",
       "  0.0],\n",
       " [19.385593220338983,\n",
       "  0.0,\n",
       "  12.711864406779661,\n",
       "  0.0,\n",
       "  8.36864406779661,\n",
       "  0.0,\n",
       "  1.0593220338983051,\n",
       "  0.0,\n",
       "  0.0,\n",
       "  25.21186440677966,\n",
       "  8.05084745762712,\n",
       "  0.0,\n",
       "  0.0,\n",
       "  7.415254237288136,\n",
       "  0.0,\n",
       "  0.0,\n",
       "  0.0,\n",
       "  0.0,\n",
       "  0.0,\n",
       "  2.7542372881355934,\n",
       "  15.042372881355933,\n",
       "  0.0,\n",
       "  0.0,\n",
       "  0.0,\n",
       "  0.0],\n",
       " [0.0,\n",
       "  18.98238747553816,\n",
       "  7.3385518590998045,\n",
       "  0.0,\n",
       "  4.794520547945205,\n",
       "  9.29549902152642,\n",
       "  1.2720156555772995,\n",
       "  0.0,\n",
       "  0.0,\n",
       "  0.0,\n",
       "  5.968688845401174,\n",
       "  0.0,\n",
       "  0.0,\n",
       "  5.38160469667319,\n",
       "  0.0,\n",
       "  25.048923679060664,\n",
       "  0.0,\n",
       "  0.0,\n",
       "  0.0,\n",
       "  9.099804305283758,\n",
       "  0.0,\n",
       "  0.0,\n",
       "  9.58904109589041,\n",
       "  3.228962818003914,\n",
       "  0.0]]"
      ]
     },
     "execution_count": 34,
     "metadata": {},
     "output_type": "execute_result"
    }
   ],
   "source": [
    "cuisine_percentage"
   ]
  },
  {
   "cell_type": "code",
   "execution_count": 39,
   "metadata": {},
   "outputs": [],
   "source": [
    "n=[-1 for i in range(len(users))]\n",
    "for i in range(len(users)):\n",
    "    absval=0\n",
    "    if i != default_user:\n",
    "        sim=0  \n",
    "        userdishindex = default_user\n",
    "        botdishindex=i\n",
    "        for k in range(25):\n",
    "            absval+=abs(cuisine_percentage[userdishindex][k]-cuisine_percentage[botdishindex][k])\n",
    "        n[i]=absval"
   ]
  },
  {
   "cell_type": "code",
   "execution_count": 41,
   "metadata": {},
   "outputs": [
    {
     "data": {
      "text/plain": [
       "[-1,\n",
       " 122.84273336904916,\n",
       " 124.52887111591134,\n",
       " 187.76671408250354,\n",
       " 138.5774058577406,\n",
       " 97.19569193253403,\n",
       " 127.89583660105973,\n",
       " 170.1280227596017,\n",
       " 121.19487908961594,\n",
       " 154.0889449528973,\n",
       " 119.02115513542952,\n",
       " 139.7674562434288,\n",
       " 135.1235775248933,\n",
       " 132.76434329065907,\n",
       " 158.6410208835838,\n",
       " 129.1428911400895,\n",
       " 142.78959810874704,\n",
       " 118.06543385490755,\n",
       " 136.91383176218142,\n",
       " 181.40900195694718]"
      ]
     },
     "execution_count": 41,
     "metadata": {},
     "output_type": "execute_result"
    }
   ],
   "source": [
    "n"
   ]
  },
  {
   "cell_type": "code",
   "execution_count": 50,
   "metadata": {},
   "outputs": [],
   "source": [
    "distance_from_other_users=[]\n",
    "for i in range(len(m)):\n",
    "    if i!=default_user:\n",
    "        distance_from_other_users.append(np.sqrt((m[i]**2)+(n[i]**2)))\n",
    "    else:\n",
    "        distance_from_other_users.append(-1)"
   ]
  },
  {
   "cell_type": "code",
   "execution_count": 51,
   "metadata": {},
   "outputs": [
    {
     "data": {
      "text/plain": [
       "[-1,\n",
       " 160.3101280068708,\n",
       " 239.85920816471327,\n",
       " 190.30853611265215,\n",
       " 253.27395723654843,\n",
       " 249.69381756512126,\n",
       " 191.8497980710039,\n",
       " 193.41029995347083,\n",
       " 195.96989237519784,\n",
       " 203.54950984145606,\n",
       " 233.59588046404411,\n",
       " 201.39498957213107,\n",
       " 183.39678623990622,\n",
       " 183.03652872964994,\n",
       " 188.6026869028797,\n",
       " 167.7107221736911,\n",
       " 210.01159331822015,\n",
       " 227.10228240012813,\n",
       " 221.407762573499,\n",
       " 198.6711503742193]"
      ]
     },
     "execution_count": 51,
     "metadata": {},
     "output_type": "execute_result"
    }
   ],
   "source": [
    "distance_from_other_users"
   ]
  },
  {
   "cell_type": "code",
   "execution_count": 13,
   "metadata": {},
   "outputs": [
    {
     "data": {
      "text/plain": [
       "'3,4,5,6'"
      ]
     },
     "execution_count": 13,
     "metadata": {},
     "output_type": "execute_result"
    }
   ],
   "source": [
    "ingredients"
   ]
  },
  {
   "cell_type": "code",
   "execution_count": 12,
   "metadata": {},
   "outputs": [],
   "source": [
    "ingredients=\",\".join(ingredients)"
   ]
  },
  {
   "cell_type": "code",
   "execution_count": 11,
   "metadata": {},
   "outputs": [],
   "source": [
    "ingredients=(\"3\",\"4\",\"5\",\"6\")"
   ]
  },
  {
   "cell_type": "code",
   "execution_count": 37,
   "metadata": {},
   "outputs": [
    {
     "ename": "ValueError",
     "evalue": "low >= high",
     "output_type": "error",
     "traceback": [
      "\u001b[1;31m---------------------------------------------------------------------------\u001b[0m",
      "\u001b[1;31mValueError\u001b[0m                                Traceback (most recent call last)",
      "\u001b[1;32m<ipython-input-37-7cd681136bc4>\u001b[0m in \u001b[0;36m<module>\u001b[1;34m\u001b[0m\n\u001b[0;32m      1\u001b[0m \u001b[1;32mfor\u001b[0m \u001b[0mi\u001b[0m \u001b[1;32min\u001b[0m \u001b[0mrange\u001b[0m\u001b[1;33m(\u001b[0m\u001b[0mlen\u001b[0m\u001b[1;33m(\u001b[0m\u001b[0musers\u001b[0m\u001b[1;33m)\u001b[0m\u001b[1;33m)\u001b[0m\u001b[1;33m:\u001b[0m\u001b[1;33m\u001b[0m\u001b[1;33m\u001b[0m\u001b[0m\n\u001b[0;32m      2\u001b[0m     \u001b[0muser_likes\u001b[0m\u001b[1;33m=\u001b[0m\u001b[1;33m[\u001b[0m\u001b[1;33m]\u001b[0m\u001b[1;33m\u001b[0m\u001b[1;33m\u001b[0m\u001b[0m\n\u001b[1;32m----> 3\u001b[1;33m     \u001b[0mc\u001b[0m\u001b[1;33m=\u001b[0m\u001b[0mnp\u001b[0m\u001b[1;33m.\u001b[0m\u001b[0mrandom\u001b[0m\u001b[1;33m.\u001b[0m\u001b[0mrandint\u001b[0m\u001b[1;33m(\u001b[0m\u001b[1;36m0\u001b[0m\u001b[1;33m)\u001b[0m\u001b[1;33m\u001b[0m\u001b[1;33m\u001b[0m\u001b[0m\n\u001b[0m\u001b[0;32m      4\u001b[0m     \u001b[1;32mfor\u001b[0m \u001b[0mj\u001b[0m \u001b[1;32min\u001b[0m \u001b[0mrange\u001b[0m\u001b[1;33m(\u001b[0m\u001b[0mc\u001b[0m\u001b[1;33m)\u001b[0m\u001b[1;33m:\u001b[0m\u001b[1;33m\u001b[0m\u001b[1;33m\u001b[0m\u001b[0m\n\u001b[0;32m      5\u001b[0m         \u001b[0mlikesdish\u001b[0m\u001b[1;33m=\u001b[0m\u001b[0mnp\u001b[0m\u001b[1;33m.\u001b[0m\u001b[0mrandom\u001b[0m\u001b[1;33m.\u001b[0m\u001b[0mrandint\u001b[0m\u001b[1;33m(\u001b[0m\u001b[0mmin\u001b[0m\u001b[1;33m(\u001b[0m\u001b[0mdata\u001b[0m\u001b[1;33m[\u001b[0m\u001b[1;34m\"New_ID\"\u001b[0m\u001b[1;33m]\u001b[0m\u001b[1;33m)\u001b[0m\u001b[1;33m,\u001b[0m\u001b[0mmax\u001b[0m\u001b[1;33m(\u001b[0m\u001b[0mdata\u001b[0m\u001b[1;33m[\u001b[0m\u001b[1;34m\"New_ID\"\u001b[0m\u001b[1;33m]\u001b[0m\u001b[1;33m)\u001b[0m\u001b[1;33m)\u001b[0m\u001b[1;33m\u001b[0m\u001b[1;33m\u001b[0m\u001b[0m\n",
      "\u001b[1;32mmtrand.pyx\u001b[0m in \u001b[0;36mnumpy.random.mtrand.RandomState.randint\u001b[1;34m()\u001b[0m\n",
      "\u001b[1;32m_bounded_integers.pyx\u001b[0m in \u001b[0;36mnumpy.random._bounded_integers._rand_int32\u001b[1;34m()\u001b[0m\n",
      "\u001b[1;31mValueError\u001b[0m: low >= high"
     ]
    }
   ],
   "source": [
    "for i in range(len(users)):\n",
    "    user_likes=[]\n",
    "    c=np.random.randint(0)\n",
    "    for j in range(c):\n",
    "        likesdish=np.random.randint(min(data[\"New_ID\"]),max(data[\"New_ID\"]))\n",
    "        if likesdish not in user_likes:\n",
    "            user_likes.append(likesdish)\n",
    "    user[i][1] = user_likes"
   ]
  },
  {
   "cell_type": "code",
   "execution_count": null,
   "metadata": {},
   "outputs": [],
   "source": []
  },
  {
   "cell_type": "code",
   "execution_count": null,
   "metadata": {},
   "outputs": [],
   "source": [
    "user[1][1].append(6256)"
   ]
  },
  {
   "cell_type": "code",
   "execution_count": null,
   "metadata": {},
   "outputs": [],
   "source": [
    "users = pd.DataFrame(user, columns=['id', 'food_id'])"
   ]
  },
  {
   "cell_type": "code",
   "execution_count": null,
   "metadata": {},
   "outputs": [],
   "source": [
    "users"
   ]
  },
  {
   "cell_type": "code",
   "execution_count": null,
   "metadata": {},
   "outputs": [],
   "source": [
    "#let default user be 0\n",
    "import math\n",
    "userA=0"
   ]
  },
  {
   "cell_type": "code",
   "execution_count": null,
   "metadata": {},
   "outputs": [],
   "source": [
    "list_food_i=users.loc[0,\"food_id\"]"
   ]
  },
  {
   "cell_type": "code",
   "execution_count": null,
   "metadata": {},
   "outputs": [],
   "source": [
    "list_food_i"
   ]
  },
  {
   "cell_type": "code",
   "execution_count": null,
   "metadata": {},
   "outputs": [],
   "source": []
  },
  {
   "cell_type": "code",
   "execution_count": null,
   "metadata": {},
   "outputs": [],
   "source": [
    "m=[-1 for i in range(len(users))]\n",
    "for userB in range(len(users)):\n",
    "        if userB!= userA:\n",
    "            sim=0\n",
    "            for j in range(len(list_food_i)):\n",
    "                if list_food_i[j] in users.loc[userB,\"food_id\"]:\n",
    "                    sim+=1\n",
    "            m[userB]=1/(1+sim)\n",
    "m = [item for item in m if item != -1]"
   ]
  },
  {
   "cell_type": "code",
   "execution_count": null,
   "metadata": {},
   "outputs": [],
   "source": [
    "m"
   ]
  },
  {
   "cell_type": "code",
   "execution_count": null,
   "metadata": {},
   "outputs": [],
   "source": [
    "top10=sorted(range(len(m)), key=lambda i: m[i])[0:10]"
   ]
  },
  {
   "cell_type": "code",
   "execution_count": null,
   "metadata": {},
   "outputs": [],
   "source": [
    "users.food_id[top10[i]]"
   ]
  },
  {
   "cell_type": "code",
   "execution_count": null,
   "metadata": {},
   "outputs": [],
   "source": [
    "list_food=[]\n",
    "for i in range(10):\n",
    "    fdm=users.food_id[top10[i]]\n",
    "    for j in range(len(fdm)):\n",
    "        if fdm[j] not in list_food_i and fdm[j] not in list_food:\n",
    "            list_food.append(fdm[j])"
   ]
  },
  {
   "cell_type": "code",
   "execution_count": null,
   "metadata": {},
   "outputs": [],
   "source": [
    "list_food"
   ]
  },
  {
   "cell_type": "code",
   "execution_count": null,
   "metadata": {},
   "outputs": [],
   "source": []
  },
  {
   "cell_type": "code",
   "execution_count": null,
   "metadata": {},
   "outputs": [],
   "source": []
  },
  {
   "cell_type": "code",
   "execution_count": null,
   "metadata": {},
   "outputs": [],
   "source": [
    "len(users)"
   ]
  },
  {
   "cell_type": "code",
   "execution_count": null,
   "metadata": {},
   "outputs": [],
   "source": [
    "m"
   ]
  },
  {
   "cell_type": "code",
   "execution_count": null,
   "metadata": {},
   "outputs": [],
   "source": [
    "list20=[]"
   ]
  },
  {
   "cell_type": "code",
   "execution_count": null,
   "metadata": {},
   "outputs": [],
   "source": [
    "\n",
    "list20.append(m.index(m.pop(m.index(min(m)))))"
   ]
  },
  {
   "cell_type": "code",
   "execution_count": null,
   "metadata": {},
   "outputs": [],
   "source": [
    "list20"
   ]
  },
  {
   "cell_type": "code",
   "execution_count": null,
   "metadata": {},
   "outputs": [],
   "source": []
  },
  {
   "cell_type": "code",
   "execution_count": null,
   "metadata": {
    "scrolled": true
   },
   "outputs": [],
   "source": [
    "score=0\n",
    "sim=0\n",
    "m = np.zeros((200, 200), dtype=float) \n",
    "for userA in range(len(users)):\n",
    "    print(userA)\n",
    "    list_food_i=users.loc[userA,\"food_id\"]\n",
    "    print(list_food_i)\n",
    "    for userB in range(userA+1,len(users)):\n",
    "        sim=0\n",
    "        for j in range(len(list_food_i)):\n",
    "            if list_food_i[j] in users.loc[userB,\"food_id\"]:\n",
    "                sim+=1\n",
    "        m[userA][userB]=1/(1+sim)\n",
    "        m[userB][userA]=1/(1+sim)"
   ]
  },
  {
   "cell_type": "code",
   "execution_count": null,
   "metadata": {},
   "outputs": [],
   "source": [
    "print(m) "
   ]
  },
  {
   "cell_type": "code",
   "execution_count": null,
   "metadata": {},
   "outputs": [],
   "source": [
    "g =np.random.randint(min(data[\"New_ID\"]),max(data[\"New_ID\"]))"
   ]
  },
  {
   "cell_type": "code",
   "execution_count": null,
   "metadata": {},
   "outputs": [],
   "source": [
    "g"
   ]
  },
  {
   "cell_type": "code",
   "execution_count": null,
   "metadata": {},
   "outputs": [],
   "source": [
    "#login register\n",
    "#"
   ]
  }
 ],
 "metadata": {
  "kernelspec": {
   "display_name": "Python 3",
   "language": "python",
   "name": "python3"
  },
  "language_info": {
   "codemirror_mode": {
    "name": "ipython",
    "version": 3
   },
   "file_extension": ".py",
   "mimetype": "text/x-python",
   "name": "python",
   "nbconvert_exporter": "python",
   "pygments_lexer": "ipython3",
   "version": "3.8.3"
  },
  "vscode": {
   "interpreter": {
    "hash": "ad2bdc8ecc057115af97d19610ffacc2b4e99fae6737bb82f5d7fb13d2f2c186"
   }
  }
 },
 "nbformat": 4,
 "nbformat_minor": 4
}
